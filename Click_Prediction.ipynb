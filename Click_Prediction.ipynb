{
  "cells": [
    {
      "cell_type": "code",
      "execution_count": null,
      "id": "2e426b0c",
      "metadata": {
        "id": "2e426b0c",
        "outputId": "78a8a221-5831-4f81-d282-1f78b98e306a"
      },
      "outputs": [
        {
          "name": "stdout",
          "output_type": "stream",
          "text": [
            "Requirement already satisfied: findspark in ./.local/lib/python3.8/site-packages (2.0.1)\r\n"
          ]
        }
      ],
      "source": [
        "! pip install findspark"
      ]
    },
    {
      "cell_type": "code",
      "execution_count": null,
      "id": "8017fe02",
      "metadata": {
        "id": "8017fe02"
      },
      "outputs": [],
      "source": [
        "import findspark\n",
        "findspark.init()\n",
        "\n",
        "import pyspark\n",
        "sc = pyspark.SparkContext(appName=\"lsml-app\")\n",
        "\n",
        "from pyspark.sql import SparkSession, Row\n",
        "se = SparkSession(sc)"
      ]
    },
    {
      "cell_type": "code",
      "execution_count": null,
      "id": "2eeff043",
      "metadata": {
        "id": "2eeff043",
        "outputId": "179f86c2-3e87-4618-b67e-a33e43f245e5"
      },
      "outputs": [
        {
          "name": "stdout",
          "output_type": "stream",
          "text": [
            "  % Total    % Received % Xferd  Average Speed   Time    Time     Time  Current\n",
            "                                 Dload  Upload   Total   Spent    Left  Speed\n",
            "100  135M  100  135M    0     0  16.5M      0  0:00:08  0:00:08 --:--:-- 21.5M\n",
            "  % Total    % Received % Xferd  Average Speed   Time    Time     Time  Current\n",
            "                                 Dload  Upload   Total   Spent    Left  Speed\n",
            "100  389M  100  389M    0     0  18.9M      0  0:00:20  0:00:20 --:--:-- 21.3M\n",
            "  % Total    % Received % Xferd  Average Speed   Time    Time     Time  Current\n",
            "                                 Dload  Upload   Total   Spent    Left  Speed\n",
            "100 32.3M  100 32.3M    0     0  9530k      0  0:00:03  0:00:03 --:--:-- 9530k\n",
            "  % Total    % Received % Xferd  Average Speed   Time    Time     Time  Current\n",
            "                                 Dload  Upload   Total   Spent    Left  Speed\n",
            "100  125M  100  125M    0     0  17.5M      0  0:00:07  0:00:07 --:--:-- 23.9M\n",
            "  % Total    % Received % Xferd  Average Speed   Time    Time     Time  Current\n",
            "                                 Dload  Upload   Total   Spent    Left  Speed\n",
            "100 15.5M  100 15.5M    0     0  5106k      0  0:00:03  0:00:03 --:--:-- 5106k\n",
            "  % Total    % Received % Xferd  Average Speed   Time    Time     Time  Current\n",
            "                                 Dload  Upload   Total   Spent    Left  Speed\n",
            "100  120M  100  120M    0     0  17.3M      0  0:00:06  0:00:06 --:--:-- 23.7M\n",
            "  % Total    % Received % Xferd  Average Speed   Time    Time     Time  Current\n",
            "                                 Dload  Upload   Total   Spent    Left  Speed\n",
            "100  477M  100  477M    0     0  23.6M      0  0:00:20  0:00:20 --:--:-- 30.9M\n",
            "  % Total    % Received % Xferd  Average Speed   Time    Time     Time  Current\n",
            "                                 Dload  Upload   Total   Spent    Left  Speed\n",
            "100 34.7G  100 34.7G    0     0  29.0M      0  0:20:25  0:20:25 --:--:-- 28.8M8 34.7G   28  9.9G    0     0  28.6M      0  0:20:42  0:05:56  0:14:46 29.4M8M.7M      0  0:20:38  0:10:02  0:10:36 28.0MM      0  0:20:37  0:10:29  0:10:08 30.8M 0  28.8M      0  0:20:35  0:12:16  0:08:19 26.0M   0     0  28.8M      0  0:20:34  0:12:42  0:07:52 29.6M     0  0:20:28  0:15:59  0:04:29 29.9M9.0M      0  0:20:27  0:16:05  0:04:22 30.7M  82 28.8G    0     0  29.0M      0  0:20:25  0:16:55  0:03:30 28.5M  29.0M      0  0:20:25  0:20:21  0:00:04 28.1M\n",
            "\n",
            "gzip: stdin: invalid compressed data--length error\n",
            "  % Total    % Received % Xferd  Average Speed   Time    Time     Time  Current\n",
            "                                 Dload  Upload   Total   Spent    Left  Speed\n",
            "100  148M  100  148M    0     0  17.1M      0  0:00:08  0:00:08 --:--:-- 22.5M\n",
            "  % Total    % Received % Xferd  Average Speed   Time    Time     Time  Current\n",
            "                                 Dload  Upload   Total   Spent    Left  Speed\n",
            "100 2575k  100 2575k    0     0  1229k      0  0:00:02  0:00:02 --:--:-- 1229k\n",
            "  % Total    % Received % Xferd  Average Speed   Time    Time     Time  Current\n",
            "                                 Dload  Upload   Total   Spent    Left  Speed\n",
            "100 99.5M  100 99.5M    0     0  16.5M      0  0:00:06  0:00:06 --:--:-- 24.2M\n"
          ]
        }
      ],
      "source": [
        "! curl https://storage.yandexcloud.net/outbrain-mirror/clicks_test.csv.zip | gzip -d | hdfs dfs -put - /user/outbrain/clicks_test.csv\n",
        "! curl https://storage.yandexcloud.net/outbrain-mirror/clicks_train.csv.zip | gzip -d | hdfs dfs -put - /user/outbrain/clicks_train.csv\n",
        "! curl https://storage.yandexcloud.net/outbrain-mirror/documents_categories.csv.zip | gzip -d | hdfs dfs -put - /user/outbrain/documents_categories.csv\n",
        "! curl https://storage.yandexcloud.net/outbrain-mirror/documents_entities.csv.zip | gzip -d | hdfs dfs -put - /user/outbrain/documents_entities.csv\n",
        "! curl https://storage.yandexcloud.net/outbrain-mirror/documents_meta.csv.zip | gzip -d | hdfs dfs -put - /user/outbrain/documents_meta.csv\n",
        "! curl https://storage.yandexcloud.net/outbrain-mirror/documents_topics.csv.zip | gzip -d | hdfs dfs -put - /user/outbrain/documents_topics.csv\n",
        "! curl https://storage.yandexcloud.net/outbrain-mirror/events.csv.zip | gzip -d | hdfs dfs -put - /user/outbrain/events.csv\n",
        "! curl https://storage.yandexcloud.net/outbrain-mirror/page_views.csv.zip | gzip -d | hdfs dfs -put - /user/outbrain/page_views.csv\n",
        "! curl https://storage.yandexcloud.net/outbrain-mirror/page_views_sample.csv.zip | gzip -d | hdfs dfs -put - /user/outbrain/page_views_sample.csv\n",
        "! curl https://storage.yandexcloud.net/outbrain-mirror/promoted_content.csv.zip | gzip -d | hdfs dfs -put - /user/outbrain/promoted_content.csv\n",
        "! curl https://storage.yandexcloud.net/outbrain-mirror/sample_submission.csv.zip | gzip -d | hdfs dfs -put - /user/outbrain/sample_submission.csv"
      ]
    },
    {
      "cell_type": "code",
      "execution_count": null,
      "id": "bb54e55b",
      "metadata": {
        "id": "bb54e55b",
        "outputId": "c7b1a0aa-66df-4c9a-f3e3-d1744a62fe6b"
      },
      "outputs": [
        {
          "name": "stdout",
          "output_type": "stream",
          "text": [
            "Found 11 items\r\n",
            "-rw-r--r--   1 ubuntu hadoop   506953370 2022-03-19 23:00 /user/outbrain/clicks_test.csv\r\n",
            "-rw-r--r--   1 ubuntu hadoop  1486734654 2022-03-19 23:00 /user/outbrain/clicks_train.csv\r\n",
            "-rw-r--r--   1 ubuntu hadoop   118017029 2022-03-19 23:00 /user/outbrain/documents_categories.csv\r\n",
            "-rw-r--r--   1 ubuntu hadoop   324096832 2022-03-19 23:00 /user/outbrain/documents_entities.csv\r\n",
            "-rw-r--r--   1 ubuntu hadoop    89380566 2022-03-19 23:00 /user/outbrain/documents_meta.csv\r\n",
            "-rw-r--r--   1 ubuntu hadoop   339473038 2022-03-19 23:00 /user/outbrain/documents_topics.csv\r\n",
            "-rw-r--r--   1 ubuntu hadoop  1208549589 2022-03-19 23:01 /user/outbrain/events.csv\r\n",
            "-rw-r--r--   1 ubuntu hadoop 94931571958 2022-03-19 23:21 /user/outbrain/page_views.csv\r\n",
            "-rw-r--r--   1 ubuntu hadoop   454346554 2022-03-19 23:21 /user/outbrain/page_views_sample.csv\r\n",
            "-rw-r--r--   1 ubuntu hadoop    13886609 2022-03-19 23:21 /user/outbrain/promoted_content.csv\r\n",
            "-rw-r--r--   1 ubuntu hadoop   273136709 2022-03-19 23:22 /user/outbrain/sample_submission.csv\r\n"
          ]
        }
      ],
      "source": [
        "! hdfs dfs -ls /user/outbrain/"
      ]
    },
    {
      "cell_type": "markdown",
      "id": "97baa8f6",
      "metadata": {
        "id": "97baa8f6"
      },
      "source": [
        "## Saving as parquet"
      ]
    },
    {
      "cell_type": "code",
      "execution_count": null,
      "id": "ba42116b",
      "metadata": {
        "id": "ba42116b"
      },
      "outputs": [],
      "source": [
        "train = se.read.option(\"mode\", \"DROPMALFORMED\").csv(\"/user/outbrain/clicks_train.csv\", header=True, inferSchema=True)\n",
        "train.write.parquet(\"/user/outbrain/parquet/clicks_train.parquet\")\n",
        "\n",
        "test = se.read.option(\"mode\", \"DROPMALFORMED\").csv(\"/user/outbrain/clicks_test.csv\", header=True, inferSchema=True)\n",
        "test.write.parquet(\"/user/outbrain/parquet/clicks_test.parquet\")\n",
        "\n",
        "categories = se.read.option(\"mode\", \"DROPMALFORMED\").csv(\"/user/outbrain/documents_categories.csv\", header=True, inferSchema=True)\n",
        "categories.write.parquet(\"/user/outbrain/parquet/documents_categories.parquet\")\n",
        "\n",
        "entities = se.read.option(\"mode\", \"DROPMALFORMED\").csv(\"/user/outbrain/documents_entities.csv\", header=True, inferSchema=True)\n",
        "entities.write.parquet(\"/user/outbrain/parquet/documents_entities.parquet\")\n",
        "\n",
        "meta = se.read.option(\"mode\", \"DROPMALFORMED\").csv(\"/user/outbrain/documents_meta.csv\", header=True, inferSchema=True)\n",
        "meta.write.parquet(\"/user/outbrain/parquet/documents_meta.parquet\")\n",
        "\n",
        "topics = se.read.option(\"mode\", \"DROPMALFORMED\").csv(\"/user/outbrain/documents_topics.csv\", header=True, inferSchema=True)\n",
        "topics.write.parquet(\"/user/outbrain/parquet/documents_topics.parquet\")\n",
        "\n",
        "events = se.read.option(\"mode\", \"DROPMALFORMED\").csv(\"/user/outbrain/events.csv\", header=True, inferSchema=True)\n",
        "events.write.parquet(\"/user/outbrain/parquet/events.parquet\")"
      ]
    },
    {
      "cell_type": "code",
      "execution_count": null,
      "id": "2c6f0f07",
      "metadata": {
        "id": "2c6f0f07",
        "outputId": "792b98ef-c4d4-44e8-9963-1aca4b85d390"
      },
      "outputs": [
        {
          "name": "stdout",
          "output_type": "stream",
          "text": [
            "CPU times: user 1.24 s, sys: 548 ms, total: 1.78 s\n",
            "Wall time: 2h 19min 35s\n"
          ]
        }
      ],
      "source": [
        "%%time\n",
        "views = se.read.option(\"mode\", \"DROPMALFORMED\").csv(\"/user/outbrain/page_views.csv\", header=True, inferSchema=True)\n",
        "views.write.parquet(\"/user/outbrain/parquet/page_views.parquet\")\n",
        "\n",
        "views_sample = se.read.option(\"mode\", \"DROPMALFORMED\").csv(\"/user/outbrain/page_views_sample.csv\", header=True, inferSchema=True)\n",
        "views_sample.write.parquet(\"/user/outbrain/parquet/page_views_sample.parquet\")\n",
        "\n",
        "content = se.read.option(\"mode\", \"DROPMALFORMED\").csv(\"/user/outbrain/promoted_content.csv\", header=True, inferSchema=True)\n",
        "content.write.parquet(\"/user/outbrain/parquet/promoted_content.parquet\")\n",
        "\n",
        "sample_submission = se.read.option(\"mode\", \"DROPMALFORMED\").csv(\"/user/outbrain/sample_submission.csv\", header=True, inferSchema=True)\n",
        "sample_submission.write.parquet(\"/user/outbrain/parquet/sample_submission.parquet\")"
      ]
    },
    {
      "cell_type": "code",
      "execution_count": null,
      "id": "983e4b93",
      "metadata": {
        "id": "983e4b93",
        "outputId": "066b9060-7cf6-4ff9-fec0-76bc47688c90"
      },
      "outputs": [
        {
          "name": "stdout",
          "output_type": "stream",
          "text": [
            "Deleted /user/outbrain/page_views.csv\r\n"
          ]
        }
      ],
      "source": [
        "! hdfs dfs -rm /user/outbrain/page_views.csv"
      ]
    },
    {
      "cell_type": "markdown",
      "id": "ec0ce2f4",
      "metadata": {
        "id": "ec0ce2f4"
      },
      "source": [
        "## Opening tables"
      ]
    },
    {
      "cell_type": "code",
      "execution_count": null,
      "id": "05bdcf65",
      "metadata": {
        "id": "05bdcf65",
        "outputId": "c78cbe02-3d27-4939-f081-490d4d1c7be7"
      },
      "outputs": [
        {
          "name": "stdout",
          "output_type": "stream",
          "text": [
            "87141731\n",
            "['display_id', 'ad_id', 'clicked']\n"
          ]
        },
        {
          "data": {
            "text/html": [
              "<div>\n",
              "<style scoped>\n",
              "    .dataframe tbody tr th:only-of-type {\n",
              "        vertical-align: middle;\n",
              "    }\n",
              "\n",
              "    .dataframe tbody tr th {\n",
              "        vertical-align: top;\n",
              "    }\n",
              "\n",
              "    .dataframe thead th {\n",
              "        text-align: right;\n",
              "    }\n",
              "</style>\n",
              "<table border=\"1\" class=\"dataframe\">\n",
              "  <thead>\n",
              "    <tr style=\"text-align: right;\">\n",
              "      <th></th>\n",
              "      <th>display_id</th>\n",
              "      <th>ad_id</th>\n",
              "      <th>clicked</th>\n",
              "    </tr>\n",
              "  </thead>\n",
              "  <tbody>\n",
              "    <tr>\n",
              "      <th>0</th>\n",
              "      <td>1</td>\n",
              "      <td>42337</td>\n",
              "      <td>0</td>\n",
              "    </tr>\n",
              "    <tr>\n",
              "      <th>1</th>\n",
              "      <td>1</td>\n",
              "      <td>139684</td>\n",
              "      <td>0</td>\n",
              "    </tr>\n",
              "    <tr>\n",
              "      <th>2</th>\n",
              "      <td>1</td>\n",
              "      <td>144739</td>\n",
              "      <td>1</td>\n",
              "    </tr>\n",
              "    <tr>\n",
              "      <th>3</th>\n",
              "      <td>1</td>\n",
              "      <td>156824</td>\n",
              "      <td>0</td>\n",
              "    </tr>\n",
              "    <tr>\n",
              "      <th>4</th>\n",
              "      <td>1</td>\n",
              "      <td>279295</td>\n",
              "      <td>0</td>\n",
              "    </tr>\n",
              "  </tbody>\n",
              "</table>\n",
              "</div>"
            ],
            "text/plain": [
              "   display_id   ad_id  clicked\n",
              "0           1   42337        0\n",
              "1           1  139684        0\n",
              "2           1  144739        1\n",
              "3           1  156824        0\n",
              "4           1  279295        0"
            ]
          },
          "execution_count": 5,
          "metadata": {},
          "output_type": "execute_result"
        }
      ],
      "source": [
        "train = se.read.parquet('/user/outbrain/parquet/clicks_train.parquet')\n",
        "train.registerTempTable(\"train\")\n",
        "print(train.count())\n",
        "print(train.columns)\n",
        "train.limit(5).toPandas()"
      ]
    },
    {
      "cell_type": "code",
      "execution_count": null,
      "id": "5fc2c67d",
      "metadata": {
        "id": "5fc2c67d",
        "outputId": "86c68e7f-6edf-4dab-95c1-d7bf027909e2"
      },
      "outputs": [
        {
          "name": "stdout",
          "output_type": "stream",
          "text": [
            "32225162\n",
            "['display_id', 'ad_id']\n"
          ]
        },
        {
          "data": {
            "text/html": [
              "<div>\n",
              "<style scoped>\n",
              "    .dataframe tbody tr th:only-of-type {\n",
              "        vertical-align: middle;\n",
              "    }\n",
              "\n",
              "    .dataframe tbody tr th {\n",
              "        vertical-align: top;\n",
              "    }\n",
              "\n",
              "    .dataframe thead th {\n",
              "        text-align: right;\n",
              "    }\n",
              "</style>\n",
              "<table border=\"1\" class=\"dataframe\">\n",
              "  <thead>\n",
              "    <tr style=\"text-align: right;\">\n",
              "      <th></th>\n",
              "      <th>display_id</th>\n",
              "      <th>ad_id</th>\n",
              "    </tr>\n",
              "  </thead>\n",
              "  <tbody>\n",
              "    <tr>\n",
              "      <th>0</th>\n",
              "      <td>17926818</td>\n",
              "      <td>187982</td>\n",
              "    </tr>\n",
              "    <tr>\n",
              "      <th>1</th>\n",
              "      <td>17926818</td>\n",
              "      <td>190579</td>\n",
              "    </tr>\n",
              "    <tr>\n",
              "      <th>2</th>\n",
              "      <td>17926818</td>\n",
              "      <td>238221</td>\n",
              "    </tr>\n",
              "    <tr>\n",
              "      <th>3</th>\n",
              "      <td>17926818</td>\n",
              "      <td>359056</td>\n",
              "    </tr>\n",
              "    <tr>\n",
              "      <th>4</th>\n",
              "      <td>17926819</td>\n",
              "      <td>24754</td>\n",
              "    </tr>\n",
              "  </tbody>\n",
              "</table>\n",
              "</div>"
            ],
            "text/plain": [
              "   display_id   ad_id\n",
              "0    17926818  187982\n",
              "1    17926818  190579\n",
              "2    17926818  238221\n",
              "3    17926818  359056\n",
              "4    17926819   24754"
            ]
          },
          "execution_count": 6,
          "metadata": {},
          "output_type": "execute_result"
        }
      ],
      "source": [
        "test = se.read.parquet('/user/outbrain/parquet/clicks_test.parquet')\n",
        "test.registerTempTable(\"test\")\n",
        "print(test.count())\n",
        "print(test.columns)\n",
        "test.limit(5).toPandas()"
      ]
    },
    {
      "cell_type": "code",
      "execution_count": null,
      "id": "297f9f7d",
      "metadata": {
        "id": "297f9f7d",
        "outputId": "6debc3db-a760-4501-dbb9-a3d8d674beee"
      },
      "outputs": [
        {
          "name": "stdout",
          "output_type": "stream",
          "text": [
            "5481475\n",
            "['document_id', 'category_id', 'confidence_level']\n"
          ]
        },
        {
          "data": {
            "text/html": [
              "<div>\n",
              "<style scoped>\n",
              "    .dataframe tbody tr th:only-of-type {\n",
              "        vertical-align: middle;\n",
              "    }\n",
              "\n",
              "    .dataframe tbody tr th {\n",
              "        vertical-align: top;\n",
              "    }\n",
              "\n",
              "    .dataframe thead th {\n",
              "        text-align: right;\n",
              "    }\n",
              "</style>\n",
              "<table border=\"1\" class=\"dataframe\">\n",
              "  <thead>\n",
              "    <tr style=\"text-align: right;\">\n",
              "      <th></th>\n",
              "      <th>document_id</th>\n",
              "      <th>category_id</th>\n",
              "      <th>confidence_level</th>\n",
              "    </tr>\n",
              "  </thead>\n",
              "  <tbody>\n",
              "    <tr>\n",
              "      <th>0</th>\n",
              "      <td>1870818</td>\n",
              "      <td>1403</td>\n",
              "      <td>0.92</td>\n",
              "    </tr>\n",
              "    <tr>\n",
              "      <th>1</th>\n",
              "      <td>1870818</td>\n",
              "      <td>1702</td>\n",
              "      <td>0.07</td>\n",
              "    </tr>\n",
              "    <tr>\n",
              "      <th>2</th>\n",
              "      <td>2008670</td>\n",
              "      <td>1908</td>\n",
              "      <td>0.92</td>\n",
              "    </tr>\n",
              "    <tr>\n",
              "      <th>3</th>\n",
              "      <td>2008670</td>\n",
              "      <td>1707</td>\n",
              "      <td>0.07</td>\n",
              "    </tr>\n",
              "    <tr>\n",
              "      <th>4</th>\n",
              "      <td>1990410</td>\n",
              "      <td>1604</td>\n",
              "      <td>0.92</td>\n",
              "    </tr>\n",
              "  </tbody>\n",
              "</table>\n",
              "</div>"
            ],
            "text/plain": [
              "   document_id  category_id  confidence_level\n",
              "0      1870818         1403              0.92\n",
              "1      1870818         1702              0.07\n",
              "2      2008670         1908              0.92\n",
              "3      2008670         1707              0.07\n",
              "4      1990410         1604              0.92"
            ]
          },
          "execution_count": 7,
          "metadata": {},
          "output_type": "execute_result"
        }
      ],
      "source": [
        "categories = se.read.parquet('/user/outbrain/parquet/documents_categories.parquet')\n",
        "categories.registerTempTable(\"categories\")\n",
        "print(categories.count())\n",
        "print(categories.columns)\n",
        "categories.limit(5).toPandas()"
      ]
    },
    {
      "cell_type": "code",
      "execution_count": null,
      "id": "33110450",
      "metadata": {
        "id": "33110450",
        "outputId": "fa18e3b6-0400-4be4-adeb-fd1bde41449a"
      },
      "outputs": [
        {
          "name": "stdout",
          "output_type": "stream",
          "text": [
            "23120126\n",
            "['display_id', 'uuid', 'document_id', 'timestamp', 'platform', 'geo_location']\n"
          ]
        },
        {
          "data": {
            "text/html": [
              "<div>\n",
              "<style scoped>\n",
              "    .dataframe tbody tr th:only-of-type {\n",
              "        vertical-align: middle;\n",
              "    }\n",
              "\n",
              "    .dataframe tbody tr th {\n",
              "        vertical-align: top;\n",
              "    }\n",
              "\n",
              "    .dataframe thead th {\n",
              "        text-align: right;\n",
              "    }\n",
              "</style>\n",
              "<table border=\"1\" class=\"dataframe\">\n",
              "  <thead>\n",
              "    <tr style=\"text-align: right;\">\n",
              "      <th></th>\n",
              "      <th>display_id</th>\n",
              "      <th>uuid</th>\n",
              "      <th>document_id</th>\n",
              "      <th>timestamp</th>\n",
              "      <th>platform</th>\n",
              "      <th>geo_location</th>\n",
              "    </tr>\n",
              "  </thead>\n",
              "  <tbody>\n",
              "    <tr>\n",
              "      <th>0</th>\n",
              "      <td>1</td>\n",
              "      <td>cb8c55702adb93</td>\n",
              "      <td>379743</td>\n",
              "      <td>61</td>\n",
              "      <td>3</td>\n",
              "      <td>US&gt;SC&gt;519</td>\n",
              "    </tr>\n",
              "    <tr>\n",
              "      <th>1</th>\n",
              "      <td>2</td>\n",
              "      <td>79a85fa78311b9</td>\n",
              "      <td>1794259</td>\n",
              "      <td>81</td>\n",
              "      <td>2</td>\n",
              "      <td>US&gt;CA&gt;807</td>\n",
              "    </tr>\n",
              "    <tr>\n",
              "      <th>2</th>\n",
              "      <td>3</td>\n",
              "      <td>822932ce3d8757</td>\n",
              "      <td>1179111</td>\n",
              "      <td>182</td>\n",
              "      <td>2</td>\n",
              "      <td>US&gt;MI&gt;505</td>\n",
              "    </tr>\n",
              "    <tr>\n",
              "      <th>3</th>\n",
              "      <td>4</td>\n",
              "      <td>85281d0a49f7ac</td>\n",
              "      <td>1777797</td>\n",
              "      <td>234</td>\n",
              "      <td>2</td>\n",
              "      <td>US&gt;WV&gt;564</td>\n",
              "    </tr>\n",
              "    <tr>\n",
              "      <th>4</th>\n",
              "      <td>5</td>\n",
              "      <td>8d0daef4bf5b56</td>\n",
              "      <td>252458</td>\n",
              "      <td>338</td>\n",
              "      <td>2</td>\n",
              "      <td>SG&gt;00</td>\n",
              "    </tr>\n",
              "  </tbody>\n",
              "</table>\n",
              "</div>"
            ],
            "text/plain": [
              "   display_id            uuid  document_id  timestamp platform geo_location\n",
              "0           1  cb8c55702adb93       379743         61        3    US>SC>519\n",
              "1           2  79a85fa78311b9      1794259         81        2    US>CA>807\n",
              "2           3  822932ce3d8757      1179111        182        2    US>MI>505\n",
              "3           4  85281d0a49f7ac      1777797        234        2    US>WV>564\n",
              "4           5  8d0daef4bf5b56       252458        338        2        SG>00"
            ]
          },
          "execution_count": 8,
          "metadata": {},
          "output_type": "execute_result"
        }
      ],
      "source": [
        "events = se.read.parquet('/user/outbrain/parquet/events.parquet')\n",
        "events.registerTempTable(\"events\")\n",
        "print(events.count())\n",
        "print(events.columns)\n",
        "events.limit(5).toPandas()"
      ]
    },
    {
      "cell_type": "code",
      "execution_count": null,
      "id": "5b0658a1",
      "metadata": {
        "id": "5b0658a1",
        "outputId": "33d81427-6a5d-47a4-9a0e-b7f7bd14bb05"
      },
      "outputs": [
        {
          "name": "stdout",
          "output_type": "stream",
          "text": [
            "559583\n",
            "['ad_id', 'promo_document_id', 'campaign_id', 'advertiser_id']\n"
          ]
        },
        {
          "data": {
            "text/html": [
              "<div>\n",
              "<style scoped>\n",
              "    .dataframe tbody tr th:only-of-type {\n",
              "        vertical-align: middle;\n",
              "    }\n",
              "\n",
              "    .dataframe tbody tr th {\n",
              "        vertical-align: top;\n",
              "    }\n",
              "\n",
              "    .dataframe thead th {\n",
              "        text-align: right;\n",
              "    }\n",
              "</style>\n",
              "<table border=\"1\" class=\"dataframe\">\n",
              "  <thead>\n",
              "    <tr style=\"text-align: right;\">\n",
              "      <th></th>\n",
              "      <th>ad_id</th>\n",
              "      <th>promo_document_id</th>\n",
              "      <th>campaign_id</th>\n",
              "      <th>advertiser_id</th>\n",
              "    </tr>\n",
              "  </thead>\n",
              "  <tbody>\n",
              "    <tr>\n",
              "      <th>0</th>\n",
              "      <td>1</td>\n",
              "      <td>6614</td>\n",
              "      <td>1</td>\n",
              "      <td>7</td>\n",
              "    </tr>\n",
              "    <tr>\n",
              "      <th>1</th>\n",
              "      <td>2</td>\n",
              "      <td>471467</td>\n",
              "      <td>2</td>\n",
              "      <td>7</td>\n",
              "    </tr>\n",
              "    <tr>\n",
              "      <th>2</th>\n",
              "      <td>3</td>\n",
              "      <td>7692</td>\n",
              "      <td>3</td>\n",
              "      <td>7</td>\n",
              "    </tr>\n",
              "    <tr>\n",
              "      <th>3</th>\n",
              "      <td>4</td>\n",
              "      <td>471471</td>\n",
              "      <td>2</td>\n",
              "      <td>7</td>\n",
              "    </tr>\n",
              "    <tr>\n",
              "      <th>4</th>\n",
              "      <td>5</td>\n",
              "      <td>471472</td>\n",
              "      <td>2</td>\n",
              "      <td>7</td>\n",
              "    </tr>\n",
              "  </tbody>\n",
              "</table>\n",
              "</div>"
            ],
            "text/plain": [
              "   ad_id  promo_document_id  campaign_id  advertiser_id\n",
              "0      1               6614            1              7\n",
              "1      2             471467            2              7\n",
              "2      3               7692            3              7\n",
              "3      4             471471            2              7\n",
              "4      5             471472            2              7"
            ]
          },
          "execution_count": 9,
          "metadata": {},
          "output_type": "execute_result"
        }
      ],
      "source": [
        "content = se.read.parquet('/user/outbrain/parquet/promoted_content.parquet'\n",
        "                         ).withColumnRenamed(\"document_id\", \"promo_document_id\")\n",
        "content.registerTempTable(\"content\")\n",
        "print(content.count())\n",
        "print(content.columns)\n",
        "content.limit(5).toPandas()"
      ]
    },
    {
      "cell_type": "code",
      "execution_count": null,
      "id": "279f85aa",
      "metadata": {
        "id": "279f85aa",
        "outputId": "38236922-6f41-4f79-d57e-f2c6c0bbc87f"
      },
      "outputs": [
        {
          "name": "stdout",
          "output_type": "stream",
          "text": [
            "+---------------------+\n",
            "|count(DISTINCT ad_id)|\n",
            "+---------------------+\n",
            "|               559583|\n",
            "+---------------------+\n",
            "\n"
          ]
        }
      ],
      "source": [
        "from pyspark.sql.functions import countDistinct\n",
        "content.select(countDistinct(\"ad_id\")).show()"
      ]
    },
    {
      "cell_type": "code",
      "execution_count": null,
      "id": "55ae8aab",
      "metadata": {
        "scrolled": true,
        "id": "55ae8aab",
        "outputId": "882bd9c8-dda5-46e6-f33d-c6e0d988a4d4"
      },
      "outputs": [
        {
          "name": "stdout",
          "output_type": "stream",
          "text": [
            "2034275448\n",
            "['uuid', 'document_id', 'timestamp', 'platform', 'geo_location', 'traffic_source']\n"
          ]
        },
        {
          "data": {
            "text/html": [
              "<div>\n",
              "<style scoped>\n",
              "    .dataframe tbody tr th:only-of-type {\n",
              "        vertical-align: middle;\n",
              "    }\n",
              "\n",
              "    .dataframe tbody tr th {\n",
              "        vertical-align: top;\n",
              "    }\n",
              "\n",
              "    .dataframe thead th {\n",
              "        text-align: right;\n",
              "    }\n",
              "</style>\n",
              "<table border=\"1\" class=\"dataframe\">\n",
              "  <thead>\n",
              "    <tr style=\"text-align: right;\">\n",
              "      <th></th>\n",
              "      <th>uuid</th>\n",
              "      <th>document_id</th>\n",
              "      <th>timestamp</th>\n",
              "      <th>platform</th>\n",
              "      <th>geo_location</th>\n",
              "      <th>traffic_source</th>\n",
              "    </tr>\n",
              "  </thead>\n",
              "  <tbody>\n",
              "    <tr>\n",
              "      <th>0</th>\n",
              "      <td>68fb8eb72c49c4</td>\n",
              "      <td>1201414</td>\n",
              "      <td>63621328</td>\n",
              "      <td>3</td>\n",
              "      <td>GB&gt;F8</td>\n",
              "      <td>2</td>\n",
              "    </tr>\n",
              "    <tr>\n",
              "      <th>1</th>\n",
              "      <td>a88f8816ca5830</td>\n",
              "      <td>1201414</td>\n",
              "      <td>84129394</td>\n",
              "      <td>2</td>\n",
              "      <td>US&gt;GA&gt;524</td>\n",
              "      <td>1</td>\n",
              "    </tr>\n",
              "    <tr>\n",
              "      <th>2</th>\n",
              "      <td>fe8feabea9f4dc</td>\n",
              "      <td>1201414</td>\n",
              "      <td>18200114</td>\n",
              "      <td>2</td>\n",
              "      <td>PK&gt;04</td>\n",
              "      <td>1</td>\n",
              "    </tr>\n",
              "    <tr>\n",
              "      <th>3</th>\n",
              "      <td>23dd0b38da6247</td>\n",
              "      <td>1201414</td>\n",
              "      <td>47379374</td>\n",
              "      <td>2</td>\n",
              "      <td>NP&gt;00</td>\n",
              "      <td>2</td>\n",
              "    </tr>\n",
              "    <tr>\n",
              "      <th>4</th>\n",
              "      <td>cb7d81b02f4c1b</td>\n",
              "      <td>1201414</td>\n",
              "      <td>33703433</td>\n",
              "      <td>1</td>\n",
              "      <td>GB&gt;G5</td>\n",
              "      <td>1</td>\n",
              "    </tr>\n",
              "  </tbody>\n",
              "</table>\n",
              "</div>"
            ],
            "text/plain": [
              "             uuid  document_id  timestamp  platform geo_location  \\\n",
              "0  68fb8eb72c49c4      1201414   63621328         3        GB>F8   \n",
              "1  a88f8816ca5830      1201414   84129394         2    US>GA>524   \n",
              "2  fe8feabea9f4dc      1201414   18200114         2        PK>04   \n",
              "3  23dd0b38da6247      1201414   47379374         2        NP>00   \n",
              "4  cb7d81b02f4c1b      1201414   33703433         1        GB>G5   \n",
              "\n",
              "   traffic_source  \n",
              "0               2  \n",
              "1               1  \n",
              "2               1  \n",
              "3               2  \n",
              "4               1  "
            ]
          },
          "execution_count": 11,
          "metadata": {},
          "output_type": "execute_result"
        }
      ],
      "source": [
        "views = se.read.parquet('/user/outbrain/parquet/page_views.parquet')\n",
        "views.registerTempTable(\"views\")\n",
        "print(views.count())\n",
        "print(views.columns)\n",
        "views.limit(5).toPandas()"
      ]
    },
    {
      "cell_type": "markdown",
      "id": "4c199c1a",
      "metadata": {
        "id": "4c199c1a"
      },
      "source": [
        "\n",
        "And we can immediately think what to do with this unwieldy table. First idea: make a list of visited pages for each user!"
      ]
    },
    {
      "cell_type": "code",
      "execution_count": null,
      "id": "73a96af0",
      "metadata": {
        "id": "73a96af0",
        "outputId": "ab600262-feb3-42f3-de39-30b078495315"
      },
      "outputs": [
        {
          "data": {
            "text/html": [
              "<div>\n",
              "<style scoped>\n",
              "    .dataframe tbody tr th:only-of-type {\n",
              "        vertical-align: middle;\n",
              "    }\n",
              "\n",
              "    .dataframe tbody tr th {\n",
              "        vertical-align: top;\n",
              "    }\n",
              "\n",
              "    .dataframe thead th {\n",
              "        text-align: right;\n",
              "    }\n",
              "</style>\n",
              "<table border=\"1\" class=\"dataframe\">\n",
              "  <thead>\n",
              "    <tr style=\"text-align: right;\">\n",
              "      <th></th>\n",
              "      <th>uuid</th>\n",
              "      <th>geo_location_all</th>\n",
              "      <th>platform_all</th>\n",
              "      <th>traffic_source_all</th>\n",
              "      <th>document_id_all</th>\n",
              "    </tr>\n",
              "  </thead>\n",
              "  <tbody>\n",
              "    <tr>\n",
              "      <th>0</th>\n",
              "      <td>1000022084d5a9</td>\n",
              "      <td>[US&gt;OH&gt;510]</td>\n",
              "      <td>[1]</td>\n",
              "      <td>[1]</td>\n",
              "      <td>[2234570]</td>\n",
              "    </tr>\n",
              "    <tr>\n",
              "      <th>1</th>\n",
              "      <td>100008e35c47a0</td>\n",
              "      <td>[US&gt;IL&gt;648, US&gt;IL&gt;602]</td>\n",
              "      <td>[2]</td>\n",
              "      <td>[1, 3]</td>\n",
              "      <td>[2212362, 363095, 1444247, 2737351, 2463114, 1...</td>\n",
              "    </tr>\n",
              "    <tr>\n",
              "      <th>2</th>\n",
              "      <td>1000105ca6b2b1</td>\n",
              "      <td>[US&gt;TN&gt;640]</td>\n",
              "      <td>[3]</td>\n",
              "      <td>[1]</td>\n",
              "      <td>[2807484]</td>\n",
              "    </tr>\n",
              "    <tr>\n",
              "      <th>3</th>\n",
              "      <td>100013af048bbf</td>\n",
              "      <td>[US&gt;CA&gt;807]</td>\n",
              "      <td>[3]</td>\n",
              "      <td>[1, 2]</td>\n",
              "      <td>[2757816, 38915, 2444354, 2434169, 2442603, 24...</td>\n",
              "    </tr>\n",
              "    <tr>\n",
              "      <th>4</th>\n",
              "      <td>100013ef3da8d5</td>\n",
              "      <td>[US&gt;CA&gt;803]</td>\n",
              "      <td>[1]</td>\n",
              "      <td>[1]</td>\n",
              "      <td>[1553867]</td>\n",
              "    </tr>\n",
              "  </tbody>\n",
              "</table>\n",
              "</div>"
            ],
            "text/plain": [
              "             uuid        geo_location_all platform_all traffic_source_all  \\\n",
              "0  1000022084d5a9             [US>OH>510]          [1]                [1]   \n",
              "1  100008e35c47a0  [US>IL>648, US>IL>602]          [2]             [1, 3]   \n",
              "2  1000105ca6b2b1             [US>TN>640]          [3]                [1]   \n",
              "3  100013af048bbf             [US>CA>807]          [3]             [1, 2]   \n",
              "4  100013ef3da8d5             [US>CA>803]          [1]                [1]   \n",
              "\n",
              "                                     document_id_all  \n",
              "0                                          [2234570]  \n",
              "1  [2212362, 363095, 1444247, 2737351, 2463114, 1...  \n",
              "2                                          [2807484]  \n",
              "3  [2757816, 38915, 2444354, 2434169, 2442603, 24...  \n",
              "4                                          [1553867]  "
            ]
          },
          "execution_count": 12,
          "metadata": {},
          "output_type": "execute_result"
        }
      ],
      "source": [
        "from pyspark.sql import functions as F\n",
        "\n",
        "views_ordered = (views \\\n",
        "  .groupby(\"uuid\") \\\n",
        "  .agg(F.collect_set(\"geo_location\"),\n",
        "       F.collect_set(\"platform\"),\n",
        "       F.collect_set(\"traffic_source\"),\n",
        "       F.collect_list(\"document_id\"))\n",
        ").withColumnRenamed(\"collect_set(geo_location)\", \"geo_location_all\")\\\n",
        "    .withColumnRenamed(\"collect_set(platform)\", \"platform_all\")\\\n",
        "    .withColumnRenamed(\"collect_set(traffic_source)\", \"traffic_source_all\")\\\n",
        "    .withColumnRenamed(\"collect_list(document_id)\", \"document_id_all\")\n",
        "\n",
        "views_ordered.limit(5).toPandas()"
      ]
    },
    {
      "cell_type": "code",
      "execution_count": null,
      "id": "93022208",
      "metadata": {
        "id": "93022208",
        "outputId": "60d27e3e-cb27-44f0-bd11-b87408aa9a2a"
      },
      "outputs": [
        {
          "data": {
            "text/html": [
              "<div>\n",
              "<style scoped>\n",
              "    .dataframe tbody tr th:only-of-type {\n",
              "        vertical-align: middle;\n",
              "    }\n",
              "\n",
              "    .dataframe tbody tr th {\n",
              "        vertical-align: top;\n",
              "    }\n",
              "\n",
              "    .dataframe thead th {\n",
              "        text-align: right;\n",
              "    }\n",
              "</style>\n",
              "<table border=\"1\" class=\"dataframe\">\n",
              "  <thead>\n",
              "    <tr style=\"text-align: right;\">\n",
              "      <th></th>\n",
              "      <th>uuid</th>\n",
              "      <th>geo_location_all</th>\n",
              "      <th>platform_all</th>\n",
              "      <th>traffic_source_all</th>\n",
              "      <th>document_id_all</th>\n",
              "    </tr>\n",
              "  </thead>\n",
              "  <tbody>\n",
              "    <tr>\n",
              "      <th>0</th>\n",
              "      <td>1000022084d5a9</td>\n",
              "      <td>[US&gt;OH&gt;510]</td>\n",
              "      <td>[1]</td>\n",
              "      <td>[1]</td>\n",
              "      <td>[2234570]</td>\n",
              "    </tr>\n",
              "    <tr>\n",
              "      <th>1</th>\n",
              "      <td>100008e35c47a0</td>\n",
              "      <td>[US&gt;IL&gt;648, US&gt;IL&gt;602]</td>\n",
              "      <td>[2]</td>\n",
              "      <td>[1, 3]</td>\n",
              "      <td>[1179111, 2213121, 1444247, 2212362, 2463114, ...</td>\n",
              "    </tr>\n",
              "    <tr>\n",
              "      <th>2</th>\n",
              "      <td>100013ef3da8d5</td>\n",
              "      <td>[US&gt;CA&gt;803]</td>\n",
              "      <td>[1]</td>\n",
              "      <td>[1]</td>\n",
              "      <td>[1553867]</td>\n",
              "    </tr>\n",
              "    <tr>\n",
              "      <th>3</th>\n",
              "      <td>10001f49a96ca8</td>\n",
              "      <td>[DE&gt;16]</td>\n",
              "      <td>[2]</td>\n",
              "      <td>[3]</td>\n",
              "      <td>[1179111]</td>\n",
              "    </tr>\n",
              "    <tr>\n",
              "      <th>4</th>\n",
              "      <td>100024efde9aa4</td>\n",
              "      <td>[GE]</td>\n",
              "      <td>[2]</td>\n",
              "      <td>[3]</td>\n",
              "      <td>[653170]</td>\n",
              "    </tr>\n",
              "  </tbody>\n",
              "</table>\n",
              "</div>"
            ],
            "text/plain": [
              "             uuid        geo_location_all platform_all traffic_source_all  \\\n",
              "0  1000022084d5a9             [US>OH>510]          [1]                [1]   \n",
              "1  100008e35c47a0  [US>IL>648, US>IL>602]          [2]             [1, 3]   \n",
              "2  100013ef3da8d5             [US>CA>803]          [1]                [1]   \n",
              "3  10001f49a96ca8                 [DE>16]          [2]                [3]   \n",
              "4  100024efde9aa4                    [GE]          [2]                [3]   \n",
              "\n",
              "                                     document_id_all  \n",
              "0                                          [2234570]  \n",
              "1  [1179111, 2213121, 1444247, 2212362, 2463114, ...  \n",
              "2                                          [1553867]  \n",
              "3                                          [1179111]  \n",
              "4                                           [653170]  "
            ]
          },
          "execution_count": 20,
          "metadata": {},
          "output_type": "execute_result"
        }
      ],
      "source": [
        "#views_ordered.withColumnRenamed(\"collect_set(geo_location)\", \"geo_location_all\")\\\n",
        "#    .withColumnRenamed(\"collect_set(platform)\", \"platform_all\")\\\n",
        "#    .withColumnRenamed(\"collect_set(traffic_source)\", \"traffic_source_all\")\\\n",
        "#    .withColumnRenamed(\"collect_list(document_id)\", \"document_id_all\")\\\n",
        "#    .limit(5).toPandas()"
      ]
    },
    {
      "cell_type": "code",
      "execution_count": null,
      "id": "5403529a",
      "metadata": {
        "id": "5403529a"
      },
      "outputs": [],
      "source": [
        "views_ordered.write.parquet(\"/user/outbrain/parquet/views_ordered.parquet\")"
      ]
    },
    {
      "cell_type": "code",
      "execution_count": null,
      "id": "5351a86b",
      "metadata": {
        "id": "5351a86b",
        "outputId": "c4026a84-5c58-473a-e37e-b321d92bd5dd"
      },
      "outputs": [
        {
          "name": "stdout",
          "output_type": "stream",
          "text": [
            "9999999\n",
            "['uuid', 'document_id', 'timestamp', 'platform', 'geo_location', 'traffic_source']\n"
          ]
        },
        {
          "data": {
            "text/html": [
              "<div>\n",
              "<style scoped>\n",
              "    .dataframe tbody tr th:only-of-type {\n",
              "        vertical-align: middle;\n",
              "    }\n",
              "\n",
              "    .dataframe tbody tr th {\n",
              "        vertical-align: top;\n",
              "    }\n",
              "\n",
              "    .dataframe thead th {\n",
              "        text-align: right;\n",
              "    }\n",
              "</style>\n",
              "<table border=\"1\" class=\"dataframe\">\n",
              "  <thead>\n",
              "    <tr style=\"text-align: right;\">\n",
              "      <th></th>\n",
              "      <th>uuid</th>\n",
              "      <th>document_id</th>\n",
              "      <th>timestamp</th>\n",
              "      <th>platform</th>\n",
              "      <th>geo_location</th>\n",
              "      <th>traffic_source</th>\n",
              "    </tr>\n",
              "  </thead>\n",
              "  <tbody>\n",
              "    <tr>\n",
              "      <th>0</th>\n",
              "      <td>1fd5f051fba643</td>\n",
              "      <td>120</td>\n",
              "      <td>31905835</td>\n",
              "      <td>1</td>\n",
              "      <td>RS</td>\n",
              "      <td>2</td>\n",
              "    </tr>\n",
              "    <tr>\n",
              "      <th>1</th>\n",
              "      <td>8557aa9004be3b</td>\n",
              "      <td>120</td>\n",
              "      <td>32053104</td>\n",
              "      <td>1</td>\n",
              "      <td>VN&gt;44</td>\n",
              "      <td>2</td>\n",
              "    </tr>\n",
              "    <tr>\n",
              "      <th>2</th>\n",
              "      <td>c351b277a358f0</td>\n",
              "      <td>120</td>\n",
              "      <td>54013023</td>\n",
              "      <td>1</td>\n",
              "      <td>KR&gt;12</td>\n",
              "      <td>1</td>\n",
              "    </tr>\n",
              "    <tr>\n",
              "      <th>3</th>\n",
              "      <td>8205775c5387f9</td>\n",
              "      <td>120</td>\n",
              "      <td>44196592</td>\n",
              "      <td>1</td>\n",
              "      <td>IN&gt;16</td>\n",
              "      <td>2</td>\n",
              "    </tr>\n",
              "    <tr>\n",
              "      <th>4</th>\n",
              "      <td>9cb0ccd8458371</td>\n",
              "      <td>120</td>\n",
              "      <td>65817371</td>\n",
              "      <td>1</td>\n",
              "      <td>US&gt;CA&gt;807</td>\n",
              "      <td>2</td>\n",
              "    </tr>\n",
              "  </tbody>\n",
              "</table>\n",
              "</div>"
            ],
            "text/plain": [
              "             uuid  document_id  timestamp  platform geo_location  \\\n",
              "0  1fd5f051fba643          120   31905835         1           RS   \n",
              "1  8557aa9004be3b          120   32053104         1        VN>44   \n",
              "2  c351b277a358f0          120   54013023         1        KR>12   \n",
              "3  8205775c5387f9          120   44196592         1        IN>16   \n",
              "4  9cb0ccd8458371          120   65817371         1    US>CA>807   \n",
              "\n",
              "   traffic_source  \n",
              "0               2  \n",
              "1               2  \n",
              "2               1  \n",
              "3               2  \n",
              "4               2  "
            ]
          },
          "execution_count": 8,
          "metadata": {},
          "output_type": "execute_result"
        }
      ],
      "source": [
        "sample_views = se.read.parquet('/user/outbrain/parquet/page_views_sample.parquet')\n",
        "sample_views.registerTempTable(\"sample_views\")\n",
        "print(sample_views.count())\n",
        "print(sample_views.columns)\n",
        "sample_views.limit(5).toPandas()"
      ]
    },
    {
      "cell_type": "code",
      "execution_count": null,
      "id": "9b49e50f",
      "metadata": {
        "id": "9b49e50f",
        "outputId": "60640f69-d757-4c10-c5e8-49dbfd6f18cc"
      },
      "outputs": [
        {
          "data": {
            "text/html": [
              "<div>\n",
              "<style scoped>\n",
              "    .dataframe tbody tr th:only-of-type {\n",
              "        vertical-align: middle;\n",
              "    }\n",
              "\n",
              "    .dataframe tbody tr th {\n",
              "        vertical-align: top;\n",
              "    }\n",
              "\n",
              "    .dataframe thead th {\n",
              "        text-align: right;\n",
              "    }\n",
              "</style>\n",
              "<table border=\"1\" class=\"dataframe\">\n",
              "  <thead>\n",
              "    <tr style=\"text-align: right;\">\n",
              "      <th></th>\n",
              "      <th>uuid</th>\n",
              "      <th>collect_list(geo_location)</th>\n",
              "      <th>collect_list(platform)</th>\n",
              "      <th>collect_list(traffic_source)</th>\n",
              "      <th>document_id_all</th>\n",
              "    </tr>\n",
              "  </thead>\n",
              "  <tbody>\n",
              "    <tr>\n",
              "      <th>0</th>\n",
              "      <td>10015b5d084850</td>\n",
              "      <td>[US&gt;KS&gt;616]</td>\n",
              "      <td>[3]</td>\n",
              "      <td>[2]</td>\n",
              "      <td>[1856154]</td>\n",
              "    </tr>\n",
              "    <tr>\n",
              "      <th>1</th>\n",
              "      <td>100186fb24c903</td>\n",
              "      <td>[US&gt;SC&gt;570]</td>\n",
              "      <td>[1]</td>\n",
              "      <td>[1]</td>\n",
              "      <td>[1836115]</td>\n",
              "    </tr>\n",
              "    <tr>\n",
              "      <th>2</th>\n",
              "      <td>10029016ab7584</td>\n",
              "      <td>[US&gt;NJ&gt;501]</td>\n",
              "      <td>[2]</td>\n",
              "      <td>[1]</td>\n",
              "      <td>[1756820]</td>\n",
              "    </tr>\n",
              "    <tr>\n",
              "      <th>3</th>\n",
              "      <td>100350115dd1ee</td>\n",
              "      <td>[US&gt;CA&gt;825]</td>\n",
              "      <td>[1]</td>\n",
              "      <td>[1]</td>\n",
              "      <td>[1849776]</td>\n",
              "    </tr>\n",
              "    <tr>\n",
              "      <th>4</th>\n",
              "      <td>100509466ab653</td>\n",
              "      <td>[US&gt;MD&gt;512]</td>\n",
              "      <td>[2]</td>\n",
              "      <td>[1]</td>\n",
              "      <td>[1871990]</td>\n",
              "    </tr>\n",
              "  </tbody>\n",
              "</table>\n",
              "</div>"
            ],
            "text/plain": [
              "             uuid collect_list(geo_location) collect_list(platform)  \\\n",
              "0  10015b5d084850                [US>KS>616]                    [3]   \n",
              "1  100186fb24c903                [US>SC>570]                    [1]   \n",
              "2  10029016ab7584                [US>NJ>501]                    [2]   \n",
              "3  100350115dd1ee                [US>CA>825]                    [1]   \n",
              "4  100509466ab653                [US>MD>512]                    [2]   \n",
              "\n",
              "  collect_list(traffic_source) document_id_all  \n",
              "0                          [2]       [1856154]  \n",
              "1                          [1]       [1836115]  \n",
              "2                          [1]       [1756820]  \n",
              "3                          [1]       [1849776]  \n",
              "4                          [1]       [1871990]  "
            ]
          },
          "execution_count": 25,
          "metadata": {},
          "output_type": "execute_result"
        }
      ],
      "source": [
        "from pyspark.sql import functions as F\n",
        "\n",
        "sample_views_ordered = (sample_views \\\n",
        "  .groupby(\"uuid\") \\\n",
        "  .agg(F.collect_list(\"geo_location\"),\n",
        "       F.collect_list(\"platform\"),\n",
        "       F.collect_list(\"traffic_source\"),\n",
        "       F.collect_list(\"document_id\"))\n",
        ") \\\n",
        "    .withColumnRenamed(\"collect_set(platform)\", \"platform_all\")\\\n",
        "    .withColumnRenamed(\"collect_set(traffic_source)\", \"traffic_source_all\")\\\n",
        "    .withColumnRenamed(\"collect_list(document_id)\", \"document_id_all\")\n",
        "\n",
        "sample_views_ordered.limit(5).toPandas()"
      ]
    },
    {
      "cell_type": "markdown",
      "id": "91894b19",
      "metadata": {
        "id": "91894b19"
      },
      "source": [
        "## Adding new features"
      ]
    },
    {
      "cell_type": "code",
      "execution_count": null,
      "id": "e4c4ff07",
      "metadata": {
        "id": "e4c4ff07",
        "outputId": "3a109cb6-3cfe-4639-83d2-d64e1a0363e5"
      },
      "outputs": [
        {
          "data": {
            "text/plain": [
              "717506889"
            ]
          },
          "execution_count": 20,
          "metadata": {},
          "output_type": "execute_result"
        }
      ],
      "source": [
        "views_ordered = se.read.parquet('/user/outbrain/parquet/views_ordered.parquet')\n",
        "views_ordered.count()"
      ]
    },
    {
      "cell_type": "code",
      "execution_count": null,
      "id": "a7321f9f",
      "metadata": {
        "id": "a7321f9f",
        "outputId": "586bcc74-f989-488c-cbb4-23457bdf1810"
      },
      "outputs": [
        {
          "name": "stdout",
          "output_type": "stream",
          "text": [
            "87141731\n",
            "['ad_id', 'display_id', 'clicked', 'uuid', 'document_id', 'timestamp', 'platform', 'geo_location', 'promo_document_id', 'campaign_id', 'advertiser_id']\n"
          ]
        },
        {
          "data": {
            "text/html": [
              "<div>\n",
              "<style scoped>\n",
              "    .dataframe tbody tr th:only-of-type {\n",
              "        vertical-align: middle;\n",
              "    }\n",
              "\n",
              "    .dataframe tbody tr th {\n",
              "        vertical-align: top;\n",
              "    }\n",
              "\n",
              "    .dataframe thead th {\n",
              "        text-align: right;\n",
              "    }\n",
              "</style>\n",
              "<table border=\"1\" class=\"dataframe\">\n",
              "  <thead>\n",
              "    <tr style=\"text-align: right;\">\n",
              "      <th></th>\n",
              "      <th>ad_id</th>\n",
              "      <th>display_id</th>\n",
              "      <th>clicked</th>\n",
              "      <th>uuid</th>\n",
              "      <th>document_id</th>\n",
              "      <th>timestamp</th>\n",
              "      <th>platform</th>\n",
              "      <th>geo_location</th>\n",
              "      <th>promo_document_id</th>\n",
              "      <th>campaign_id</th>\n",
              "      <th>advertiser_id</th>\n",
              "    </tr>\n",
              "  </thead>\n",
              "  <tbody>\n",
              "    <tr>\n",
              "      <th>0</th>\n",
              "      <td>89351</td>\n",
              "      <td>148</td>\n",
              "      <td>1</td>\n",
              "      <td>9adce6a5363308</td>\n",
              "      <td>1205772</td>\n",
              "      <td>11202</td>\n",
              "      <td>2</td>\n",
              "      <td>US&gt;LA&gt;612</td>\n",
              "      <td>990613</td>\n",
              "      <td>7617</td>\n",
              "      <td>2181</td>\n",
              "    </tr>\n",
              "    <tr>\n",
              "      <th>1</th>\n",
              "      <td>152140</td>\n",
              "      <td>148</td>\n",
              "      <td>0</td>\n",
              "      <td>9adce6a5363308</td>\n",
              "      <td>1205772</td>\n",
              "      <td>11202</td>\n",
              "      <td>2</td>\n",
              "      <td>US&gt;LA&gt;612</td>\n",
              "      <td>1060089</td>\n",
              "      <td>19032</td>\n",
              "      <td>1593</td>\n",
              "    </tr>\n",
              "    <tr>\n",
              "      <th>2</th>\n",
              "      <td>152656</td>\n",
              "      <td>148</td>\n",
              "      <td>0</td>\n",
              "      <td>9adce6a5363308</td>\n",
              "      <td>1205772</td>\n",
              "      <td>11202</td>\n",
              "      <td>2</td>\n",
              "      <td>US&gt;LA&gt;612</td>\n",
              "      <td>1086755</td>\n",
              "      <td>10511</td>\n",
              "      <td>2151</td>\n",
              "    </tr>\n",
              "    <tr>\n",
              "      <th>3</th>\n",
              "      <td>326768</td>\n",
              "      <td>148</td>\n",
              "      <td>0</td>\n",
              "      <td>9adce6a5363308</td>\n",
              "      <td>1205772</td>\n",
              "      <td>11202</td>\n",
              "      <td>2</td>\n",
              "      <td>US&gt;LA&gt;612</td>\n",
              "      <td>1379561</td>\n",
              "      <td>23374</td>\n",
              "      <td>2348</td>\n",
              "    </tr>\n",
              "    <tr>\n",
              "      <th>4</th>\n",
              "      <td>28270</td>\n",
              "      <td>463</td>\n",
              "      <td>0</td>\n",
              "      <td>85d999a1dd5483</td>\n",
              "      <td>1787133</td>\n",
              "      <td>34492</td>\n",
              "      <td>1</td>\n",
              "      <td>US&gt;SD&gt;764</td>\n",
              "      <td>845272</td>\n",
              "      <td>4346</td>\n",
              "      <td>1913</td>\n",
              "    </tr>\n",
              "  </tbody>\n",
              "</table>\n",
              "</div>"
            ],
            "text/plain": [
              "    ad_id  display_id  clicked            uuid  document_id  timestamp  \\\n",
              "0   89351         148        1  9adce6a5363308      1205772      11202   \n",
              "1  152140         148        0  9adce6a5363308      1205772      11202   \n",
              "2  152656         148        0  9adce6a5363308      1205772      11202   \n",
              "3  326768         148        0  9adce6a5363308      1205772      11202   \n",
              "4   28270         463        0  85d999a1dd5483      1787133      34492   \n",
              "\n",
              "  platform geo_location  promo_document_id  campaign_id  advertiser_id  \n",
              "0        2    US>LA>612             990613         7617           2181  \n",
              "1        2    US>LA>612            1060089        19032           1593  \n",
              "2        2    US>LA>612            1086755        10511           2151  \n",
              "3        2    US>LA>612            1379561        23374           2348  \n",
              "4        1    US>SD>764             845272         4346           1913  "
            ]
          },
          "execution_count": 21,
          "metadata": {},
          "output_type": "execute_result"
        }
      ],
      "source": [
        "train_wide = train.join(events, on=['display_id'], how='left').join(content, on=['ad_id'], how='left').cache()\n",
        "print(train_wide.count())\n",
        "print(train_wide.columns)\n",
        "train_wide.limit(5).toPandas()"
      ]
    },
    {
      "cell_type": "code",
      "execution_count": null,
      "id": "e2e8db33",
      "metadata": {
        "id": "e2e8db33",
        "outputId": "96572885-2e89-418e-e086-e19f0fc83338"
      },
      "outputs": [
        {
          "data": {
            "text/plain": [
              "0"
            ]
          },
          "execution_count": 22,
          "metadata": {},
          "output_type": "execute_result"
        }
      ],
      "source": [
        "train_wide.where(train_wide['document_id'] == train_wide['promo_document_id']).count()"
      ]
    },
    {
      "cell_type": "markdown",
      "id": "29472d2a",
      "metadata": {
        "id": "29472d2a"
      },
      "source": [
        "We can see that no page advertises itself. We have passed the sanity check."
      ]
    },
    {
      "cell_type": "code",
      "execution_count": null,
      "id": "129f46b7",
      "metadata": {
        "id": "129f46b7",
        "outputId": "0caea602-e0e0-486d-d872-09f1b0b52483"
      },
      "outputs": [
        {
          "data": {
            "text/html": [
              "<div>\n",
              "<style scoped>\n",
              "    .dataframe tbody tr th:only-of-type {\n",
              "        vertical-align: middle;\n",
              "    }\n",
              "\n",
              "    .dataframe tbody tr th {\n",
              "        vertical-align: top;\n",
              "    }\n",
              "\n",
              "    .dataframe thead th {\n",
              "        text-align: right;\n",
              "    }\n",
              "</style>\n",
              "<table border=\"1\" class=\"dataframe\">\n",
              "  <thead>\n",
              "    <tr style=\"text-align: right;\">\n",
              "      <th></th>\n",
              "      <th>ad_id</th>\n",
              "      <th>display_id</th>\n",
              "      <th>clicked</th>\n",
              "      <th>uuid</th>\n",
              "      <th>document_id</th>\n",
              "      <th>timestamp</th>\n",
              "      <th>platform</th>\n",
              "      <th>promo_document_id</th>\n",
              "      <th>campaign_id</th>\n",
              "      <th>advertiser_id</th>\n",
              "      <th>country</th>\n",
              "      <th>city</th>\n",
              "      <th>index</th>\n",
              "    </tr>\n",
              "  </thead>\n",
              "  <tbody>\n",
              "    <tr>\n",
              "      <th>0</th>\n",
              "      <td>89351</td>\n",
              "      <td>148</td>\n",
              "      <td>1</td>\n",
              "      <td>9adce6a5363308</td>\n",
              "      <td>1205772</td>\n",
              "      <td>11202</td>\n",
              "      <td>2</td>\n",
              "      <td>990613</td>\n",
              "      <td>7617</td>\n",
              "      <td>2181</td>\n",
              "      <td>US</td>\n",
              "      <td>LA</td>\n",
              "      <td>612</td>\n",
              "    </tr>\n",
              "    <tr>\n",
              "      <th>1</th>\n",
              "      <td>152140</td>\n",
              "      <td>148</td>\n",
              "      <td>0</td>\n",
              "      <td>9adce6a5363308</td>\n",
              "      <td>1205772</td>\n",
              "      <td>11202</td>\n",
              "      <td>2</td>\n",
              "      <td>1060089</td>\n",
              "      <td>19032</td>\n",
              "      <td>1593</td>\n",
              "      <td>US</td>\n",
              "      <td>LA</td>\n",
              "      <td>612</td>\n",
              "    </tr>\n",
              "    <tr>\n",
              "      <th>2</th>\n",
              "      <td>152656</td>\n",
              "      <td>148</td>\n",
              "      <td>0</td>\n",
              "      <td>9adce6a5363308</td>\n",
              "      <td>1205772</td>\n",
              "      <td>11202</td>\n",
              "      <td>2</td>\n",
              "      <td>1086755</td>\n",
              "      <td>10511</td>\n",
              "      <td>2151</td>\n",
              "      <td>US</td>\n",
              "      <td>LA</td>\n",
              "      <td>612</td>\n",
              "    </tr>\n",
              "    <tr>\n",
              "      <th>3</th>\n",
              "      <td>326768</td>\n",
              "      <td>148</td>\n",
              "      <td>0</td>\n",
              "      <td>9adce6a5363308</td>\n",
              "      <td>1205772</td>\n",
              "      <td>11202</td>\n",
              "      <td>2</td>\n",
              "      <td>1379561</td>\n",
              "      <td>23374</td>\n",
              "      <td>2348</td>\n",
              "      <td>US</td>\n",
              "      <td>LA</td>\n",
              "      <td>612</td>\n",
              "    </tr>\n",
              "    <tr>\n",
              "      <th>4</th>\n",
              "      <td>28270</td>\n",
              "      <td>463</td>\n",
              "      <td>0</td>\n",
              "      <td>85d999a1dd5483</td>\n",
              "      <td>1787133</td>\n",
              "      <td>34492</td>\n",
              "      <td>1</td>\n",
              "      <td>845272</td>\n",
              "      <td>4346</td>\n",
              "      <td>1913</td>\n",
              "      <td>US</td>\n",
              "      <td>SD</td>\n",
              "      <td>764</td>\n",
              "    </tr>\n",
              "  </tbody>\n",
              "</table>\n",
              "</div>"
            ],
            "text/plain": [
              "    ad_id  display_id  clicked            uuid  document_id  timestamp  \\\n",
              "0   89351         148        1  9adce6a5363308      1205772      11202   \n",
              "1  152140         148        0  9adce6a5363308      1205772      11202   \n",
              "2  152656         148        0  9adce6a5363308      1205772      11202   \n",
              "3  326768         148        0  9adce6a5363308      1205772      11202   \n",
              "4   28270         463        0  85d999a1dd5483      1787133      34492   \n",
              "\n",
              "  platform  promo_document_id  campaign_id  advertiser_id country city index  \n",
              "0        2             990613         7617           2181      US   LA   612  \n",
              "1        2            1060089        19032           1593      US   LA   612  \n",
              "2        2            1086755        10511           2151      US   LA   612  \n",
              "3        2            1379561        23374           2348      US   LA   612  \n",
              "4        1             845272         4346           1913      US   SD   764  "
            ]
          },
          "execution_count": 23,
          "metadata": {},
          "output_type": "execute_result"
        }
      ],
      "source": [
        "split_col = pyspark.sql.functions.split(train_wide['geo_location'], '>')\n",
        "\n",
        "train_wider = train_wide.withColumn('country', split_col.getItem(0))\n",
        "train_wider = train_wider.withColumn('city', split_col.getItem(1))\n",
        "train_wider = train_wider.withColumn('index', split_col.getItem(2)).drop('geo_location')\n",
        "\n",
        "train_wider.limit(5).toPandas()"
      ]
    },
    {
      "cell_type": "code",
      "execution_count": null,
      "id": "13d5b81f",
      "metadata": {
        "id": "13d5b81f"
      },
      "outputs": [],
      "source": [
        "train_wider.write.parquet(\"/user/outbrain/parquet/train_wider.parquet\")"
      ]
    },
    {
      "cell_type": "code",
      "execution_count": null,
      "id": "cb7f1e8a",
      "metadata": {
        "id": "cb7f1e8a",
        "outputId": "ce524feb-8ca4-41ae-d220-5756f78fbf29"
      },
      "outputs": [
        {
          "data": {
            "text/html": [
              "<div>\n",
              "<style scoped>\n",
              "    .dataframe tbody tr th:only-of-type {\n",
              "        vertical-align: middle;\n",
              "    }\n",
              "\n",
              "    .dataframe tbody tr th {\n",
              "        vertical-align: top;\n",
              "    }\n",
              "\n",
              "    .dataframe thead th {\n",
              "        text-align: right;\n",
              "    }\n",
              "</style>\n",
              "<table border=\"1\" class=\"dataframe\">\n",
              "  <thead>\n",
              "    <tr style=\"text-align: right;\">\n",
              "      <th></th>\n",
              "      <th>uuid</th>\n",
              "      <th>ad_id</th>\n",
              "      <th>display_id</th>\n",
              "      <th>clicked</th>\n",
              "      <th>document_id</th>\n",
              "      <th>timestamp</th>\n",
              "      <th>platform</th>\n",
              "      <th>promo_document_id</th>\n",
              "      <th>campaign_id</th>\n",
              "      <th>advertiser_id</th>\n",
              "      <th>country</th>\n",
              "      <th>city</th>\n",
              "      <th>index</th>\n",
              "      <th>document_id_all</th>\n",
              "    </tr>\n",
              "  </thead>\n",
              "  <tbody>\n",
              "    <tr>\n",
              "      <th>0</th>\n",
              "      <td>100013af048bbf</td>\n",
              "      <td>7033</td>\n",
              "      <td>16757900</td>\n",
              "      <td>0</td>\n",
              "      <td>38915</td>\n",
              "      <td>1116182031</td>\n",
              "      <td>3</td>\n",
              "      <td>393333</td>\n",
              "      <td>530</td>\n",
              "      <td>386</td>\n",
              "      <td>US</td>\n",
              "      <td>CA</td>\n",
              "      <td>807</td>\n",
              "      <td>[2441155, 2434209, 2447063, 2436405, 2444027, ...</td>\n",
              "    </tr>\n",
              "    <tr>\n",
              "      <th>1</th>\n",
              "      <td>100013af048bbf</td>\n",
              "      <td>147242</td>\n",
              "      <td>16757900</td>\n",
              "      <td>0</td>\n",
              "      <td>38915</td>\n",
              "      <td>1116182031</td>\n",
              "      <td>3</td>\n",
              "      <td>1108162</td>\n",
              "      <td>15428</td>\n",
              "      <td>2241</td>\n",
              "      <td>US</td>\n",
              "      <td>CA</td>\n",
              "      <td>807</td>\n",
              "      <td>[2441155, 2434209, 2447063, 2436405, 2444027, ...</td>\n",
              "    </tr>\n",
              "    <tr>\n",
              "      <th>2</th>\n",
              "      <td>100013af048bbf</td>\n",
              "      <td>156270</td>\n",
              "      <td>16757900</td>\n",
              "      <td>1</td>\n",
              "      <td>38915</td>\n",
              "      <td>1116182031</td>\n",
              "      <td>3</td>\n",
              "      <td>1388416</td>\n",
              "      <td>18892</td>\n",
              "      <td>2623</td>\n",
              "      <td>US</td>\n",
              "      <td>CA</td>\n",
              "      <td>807</td>\n",
              "      <td>[2441155, 2434209, 2447063, 2436405, 2444027, ...</td>\n",
              "    </tr>\n",
              "    <tr>\n",
              "      <th>3</th>\n",
              "      <td>10015959b777b6</td>\n",
              "      <td>64255</td>\n",
              "      <td>8264198</td>\n",
              "      <td>0</td>\n",
              "      <td>786004</td>\n",
              "      <td>566415049</td>\n",
              "      <td>2</td>\n",
              "      <td>747047</td>\n",
              "      <td>8568</td>\n",
              "      <td>1077</td>\n",
              "      <td>US</td>\n",
              "      <td>None</td>\n",
              "      <td>None</td>\n",
              "      <td>[2255569, 786004]</td>\n",
              "    </tr>\n",
              "    <tr>\n",
              "      <th>4</th>\n",
              "      <td>10015959b777b6</td>\n",
              "      <td>114910</td>\n",
              "      <td>8264198</td>\n",
              "      <td>0</td>\n",
              "      <td>786004</td>\n",
              "      <td>566415049</td>\n",
              "      <td>2</td>\n",
              "      <td>1149641</td>\n",
              "      <td>10609</td>\n",
              "      <td>1341</td>\n",
              "      <td>US</td>\n",
              "      <td>None</td>\n",
              "      <td>None</td>\n",
              "      <td>[2255569, 786004]</td>\n",
              "    </tr>\n",
              "  </tbody>\n",
              "</table>\n",
              "</div>"
            ],
            "text/plain": [
              "             uuid   ad_id  display_id  clicked  document_id   timestamp  \\\n",
              "0  100013af048bbf    7033    16757900        0        38915  1116182031   \n",
              "1  100013af048bbf  147242    16757900        0        38915  1116182031   \n",
              "2  100013af048bbf  156270    16757900        1        38915  1116182031   \n",
              "3  10015959b777b6   64255     8264198        0       786004   566415049   \n",
              "4  10015959b777b6  114910     8264198        0       786004   566415049   \n",
              "\n",
              "  platform  promo_document_id  campaign_id  advertiser_id country  city index  \\\n",
              "0        3             393333          530            386      US    CA   807   \n",
              "1        3            1108162        15428           2241      US    CA   807   \n",
              "2        3            1388416        18892           2623      US    CA   807   \n",
              "3        2             747047         8568           1077      US  None  None   \n",
              "4        2            1149641        10609           1341      US  None  None   \n",
              "\n",
              "                                     document_id_all  \n",
              "0  [2441155, 2434209, 2447063, 2436405, 2444027, ...  \n",
              "1  [2441155, 2434209, 2447063, 2436405, 2444027, ...  \n",
              "2  [2441155, 2434209, 2447063, 2436405, 2444027, ...  \n",
              "3                                  [2255569, 786004]  \n",
              "4                                  [2255569, 786004]  "
            ]
          },
          "execution_count": 25,
          "metadata": {},
          "output_type": "execute_result"
        }
      ],
      "source": [
        "train_widest = train_wider.join(views_ordered.drop(\"geo_location_all\")\\\n",
        "                                .drop(\"traffic_source_all\")\\\n",
        "                                .drop(\"platform_all\"), on=['uuid'], how='left')\n",
        "\n",
        "train_widest.limit(5).toPandas()"
      ]
    },
    {
      "cell_type": "code",
      "execution_count": null,
      "id": "96cd0703",
      "metadata": {
        "id": "96cd0703"
      },
      "outputs": [],
      "source": [
        "train_widest.write.parquet(\"/user/outbrain/parquet/train_widest.parquet\")"
      ]
    },
    {
      "cell_type": "code",
      "execution_count": null,
      "id": "553d8fe9",
      "metadata": {
        "id": "553d8fe9",
        "outputId": "245f06fb-7bee-425e-95bd-7724997a8864"
      },
      "outputs": [
        {
          "name": "stdout",
          "output_type": "stream",
          "text": [
            "87141731 87141731\n"
          ]
        }
      ],
      "source": [
        "print(train.count(), train_widest.count())"
      ]
    },
    {
      "cell_type": "markdown",
      "id": "2a21d0a2",
      "metadata": {
        "id": "2a21d0a2"
      },
      "source": [
        "## Creating vw files"
      ]
    },
    {
      "cell_type": "code",
      "execution_count": null,
      "id": "fc1f6c0a",
      "metadata": {
        "id": "fc1f6c0a"
      },
      "outputs": [],
      "source": [
        "#import findspark\n",
        "#findspark.init()\n",
        "#\n",
        "#import pyspark\n",
        "#sc = pyspark.SparkContext(appName=\"lsml-app\")\n",
        "#\n",
        "#from pyspark.sql import SparkSession, Row"
      ]
    },
    {
      "cell_type": "code",
      "execution_count": null,
      "id": "30b0daac",
      "metadata": {
        "id": "30b0daac"
      },
      "outputs": [],
      "source": [
        "#se = pyspark.sql.SparkSession.builder.appName(\"MyApp\") \\\n",
        "#        .config(\"spark.jars.packages\", \"com.microsoft.azure:synapseml_2.12:0.9.5\") \\\n",
        "#        .config(\"spark.jars.repositories\", \"https://mmlspark.azureedge.net/maven\") \\\n",
        "#        .config(\"spark.dynamicAllocation.enabled\", False) \\\n",
        "#        .config(\"spark.locality.wait\", 0) \\\n",
        "#        .getOrCreate()"
      ]
    },
    {
      "cell_type": "code",
      "execution_count": null,
      "id": "e47b6090",
      "metadata": {
        "id": "e47b6090"
      },
      "outputs": [],
      "source": [
        "#import synapse\n",
        "from pyspark.sql.functions import when, col"
      ]
    },
    {
      "cell_type": "code",
      "execution_count": null,
      "id": "0cb091fd",
      "metadata": {
        "id": "0cb091fd"
      },
      "outputs": [],
      "source": [
        "train_widest = se.read.parquet('/user/outbrain/parquet/train_widest.parquet')"
      ]
    },
    {
      "cell_type": "code",
      "execution_count": null,
      "id": "353aeb23",
      "metadata": {
        "id": "353aeb23",
        "outputId": "33d6117a-dd0d-42d3-8e6f-0b8e6cfa270c"
      },
      "outputs": [
        {
          "data": {
            "text/plain": [
              "['uuid',\n",
              " 'ad_id',\n",
              " 'display_id',\n",
              " 'clicked',\n",
              " 'document_id',\n",
              " 'timestamp',\n",
              " 'platform',\n",
              " 'promo_document_id',\n",
              " 'campaign_id',\n",
              " 'advertiser_id',\n",
              " 'country',\n",
              " 'city',\n",
              " 'index',\n",
              " 'document_id_all']"
            ]
          },
          "execution_count": 30,
          "metadata": {},
          "output_type": "execute_result"
        }
      ],
      "source": [
        "train_widest.columns"
      ]
    },
    {
      "cell_type": "code",
      "execution_count": null,
      "id": "341277cc",
      "metadata": {
        "id": "341277cc",
        "outputId": "2551452e-ed95-4a5e-97ae-923fbea56992"
      },
      "outputs": [
        {
          "name": "stdout",
          "output_type": "stream",
          "text": [
            "root\n",
            " |-- f_uuid: string (nullable = true)\n",
            " |-- f_ad_id: integer (nullable = true)\n",
            " |-- i_display_id: integer (nullable = true)\n",
            " |-- target: integer (nullable = true)\n",
            " |-- f_doc_id: integer (nullable = true)\n",
            " |-- f_timestamp: integer (nullable = true)\n",
            " |-- f_platform: string (nullable = true)\n",
            " |-- f_promo_id: integer (nullable = true)\n",
            " |-- f_campaign_id: integer (nullable = true)\n",
            " |-- f_advertiser_id: integer (nullable = true)\n",
            " |-- g_country: string (nullable = true)\n",
            " |-- g_city: string (nullable = true)\n",
            " |-- g_index: string (nullable = true)\n",
            " |-- v_visits: array (nullable = true)\n",
            " |    |-- element: integer (containsNull = true)\n",
            "\n"
          ]
        }
      ],
      "source": [
        "columns = [\n",
        "    'f_uuid',\n",
        "    'f_ad_id',\n",
        "    'i_display_id',\n",
        "    'target',\n",
        "    'f_doc_id',\n",
        "    'f_timestamp',\n",
        "    'f_platform',\n",
        "    'f_promo_id',\n",
        "    'f_campaign_id',\n",
        "    'f_advertiser_id',\n",
        "    'g_country',\n",
        "    'g_city',\n",
        "    'g_index',\n",
        "    'v_visits'\n",
        "]\n",
        "\n",
        "feats = columns[:]\n",
        "feats.remove('target')\n",
        "\n",
        "df = train_widest.toDF(*columns)\n",
        "df.printSchema()"
      ]
    },
    {
      "cell_type": "code",
      "execution_count": null,
      "id": "1636f663",
      "metadata": {
        "id": "1636f663",
        "outputId": "9b4f1173-b783-4e95-80c3-f64922470faf"
      },
      "outputs": [
        {
          "data": {
            "text/plain": [
              "(87141731, 78431574, 8710157)"
            ]
          },
          "execution_count": 32,
          "metadata": {},
          "output_type": "execute_result"
        }
      ],
      "source": [
        "df_train, df_val = (\n",
        "    df\n",
        "    .randomSplit([0.9, 0.1], 422)\n",
        ")\n",
        "\n",
        "df.count(), df_train.count(), df_val.count()"
      ]
    },
    {
      "cell_type": "code",
      "execution_count": null,
      "id": "271d4c6e",
      "metadata": {
        "id": "271d4c6e",
        "outputId": "83c03215-1a15-421d-9e54-5a60d6d0536c"
      },
      "outputs": [
        {
          "name": "stdout",
          "output_type": "stream",
          "text": [
            "+-----------+\n",
            "|sum(target)|\n",
            "+-----------+\n",
            "|    1685700|\n",
            "+-----------+\n",
            "\n"
          ]
        }
      ],
      "source": [
        "df_val.agg({'target': 'sum'}).show()"
      ]
    },
    {
      "cell_type": "code",
      "execution_count": null,
      "id": "9e373ad3",
      "metadata": {
        "id": "9e373ad3"
      },
      "outputs": [],
      "source": [
        "def to_number(raw_value):\n",
        "    try:\n",
        "        return float(raw_value)\n",
        "    except:\n",
        "        return 0.0\n",
        "    \n",
        "def convert_to_vw_class(data):\n",
        "    if 'target' in data and int(data['target']) == 1:\n",
        "        target = '1'\n",
        "    else:\n",
        "        target = '-1'\n",
        "        \n",
        "    if data['v_visits'] == None:\n",
        "        v_num = 0\n",
        "        v_visits = ''\n",
        "    else:\n",
        "        v_num = len(data['v_visits'])\n",
        "        v_visits = ' '.join(['doc_' + str(x) for x in data['v_visits']])\n",
        "        \n",
        "    template = (\"{target} |i dis_{i_display_id} |f adi_{f_ad_id} \"\\\n",
        "                \"uid_{f_uuid} doc_{f_doc_id} prm_{f_promo_id} cmp_{f_campaign_id} \"\\\n",
        "                \"adv_{f_advertiser_id} |g cnt_{g_country} cit_{g_city} ind_{g_index} tim_{f_timestamp} \"\\\n",
        "                \"plt_{f_platform} |v {v_visits}\")\n",
        "    \n",
        "    return template.format(\n",
        "        target=target,\n",
        "        f_ad_id=data['f_ad_id'],\n",
        "        i_display_id=data['i_display_id'],\n",
        "        f_uuid=data['f_uuid'],\n",
        "        f_timestamp=data['f_timestamp'],\n",
        "        f_doc_id=data['f_doc_id'],\n",
        "        f_platform=data['f_platform'],\n",
        "        f_promo_id=data['f_promo_id'],\n",
        "        f_campaign_id=data['f_campaign_id'],\n",
        "        f_advertiser_id=data['f_advertiser_id'],\n",
        "        g_country=str(data['g_country']),\n",
        "        g_city=str(data['g_city']),\n",
        "        g_index=str(data['g_index']),\n",
        "        v_visits=v_visits,\n",
        "        #v_num=v_num\n",
        "    )"
      ]
    },
    {
      "cell_type": "code",
      "execution_count": null,
      "id": "b9ed2e72",
      "metadata": {
        "id": "b9ed2e72",
        "outputId": "15029b31-8e10-46d1-dec4-d9ec80bdf352"
      },
      "outputs": [
        {
          "name": "stdout",
          "output_type": "stream",
          "text": [
            "CPU times: user 1.63 ms, sys: 4.47 ms, total: 6.1 ms\n",
            "Wall time: 7.65 s\n"
          ]
        },
        {
          "data": {
            "text/plain": [
              "'-1 |i dis_11712627 |f adi_94017 uid_10000942273bb4 doc_2498454 prm_1131560 cmp_12143 adv_1510 |g cnt_US cit_FL ind_528 tim_775257289 plt_3 |v doc_2498454'"
            ]
          },
          "execution_count": 72,
          "metadata": {},
          "output_type": "execute_result"
        }
      ],
      "source": [
        "%%time\n",
        "convert_to_vw_class(df_train.first())"
      ]
    },
    {
      "cell_type": "code",
      "execution_count": null,
      "id": "60a2faea",
      "metadata": {
        "id": "60a2faea",
        "outputId": "451b9266-0eed-4438-d6b2-9bc48010f902"
      },
      "outputs": [
        {
          "data": {
            "text/plain": [
              "['-1 |i dis_11712627 |f adi_220703 uid_10000942273bb4 doc_2498454 prm_1167035 cmp_24737 adv_3710 |g cnt_US cit_FL ind_528 tim_775257289 plt_3 |v doc_2498454',\n",
              " '1 |i dis_9011208 |f adi_172432 uid_10001fb391c03c doc_2348464 prm_1432967 cmp_21133 adv_1683 |g cnt_US cit_VA ind_511 tim_604491634 plt_3 |v doc_785504 doc_2191199 doc_1994190 doc_748583 doc_2407071 doc_2896256 doc_2437828 doc_2348464 doc_749677',\n",
              " '-1 |i dis_15283020 |f adi_512716 uid_10009bf8662d14 doc_2724451 prm_2529107 cmp_841 adv_176 |g cnt_US cit_None ind_None tim_1012746455 plt_2 |v doc_2724451 doc_2724451 doc_767910',\n",
              " '-1 |i dis_15283020 |f adi_528572 uid_10009bf8662d14 doc_2724451 prm_2636776 cmp_33865 adv_1460 |g cnt_US cit_None ind_None tim_1012746455 plt_2 |v doc_2724451 doc_2724451 doc_767910',\n",
              " '-1 |i dis_7922576 |f adi_71764 uid_10009d4c760a67 doc_143979 prm_1067714 cmp_8746 adv_1206 |g cnt_US cit_TX ind_626 tim_550368355 plt_1 |v doc_1467006 doc_1436120 doc_1827718 doc_1331473 doc_1118196 doc_1331473 doc_143979 doc_438834 doc_1756563 doc_1527546',\n",
              " '-1 |i dis_15156122 |f adi_292580 uid_10020ccf1b1de7 doc_2714621 prm_1341800 cmp_24976 adv_53 |g cnt_US cit_OR ind_820 tim_1004008596 plt_3 |v doc_2529025 doc_2534800 doc_2534309 doc_2676247 doc_2388825 doc_2706370 doc_2714262 doc_2528732 doc_2704905 doc_2660718 doc_2789832 doc_2714621 doc_226303 doc_649663 doc_370274 doc_2758720 doc_2676340 doc_2844973 doc_2910301 doc_2766726 doc_2892303 doc_2752053',\n",
              " '1 |i dis_10270695 |f adi_139944 uid_10020f279ac124 doc_2449497 prm_1320137 cmp_17929 adv_1782 |g cnt_US cit_OH ind_515 tim_684742971 plt_2 |v doc_2449497',\n",
              " '-1 |i dis_15986491 |f adi_63005 uid_10021ddf632543 doc_279652 prm_1033598 cmp_8397 adv_846 |g cnt_US cit_GA ind_520 tim_1069939061 plt_3 |v doc_1190929 doc_279652 doc_2405232 doc_407737 doc_279835 doc_409264 doc_386754 doc_991150 doc_208848 doc_510670',\n",
              " '-1 |i dis_5781340 |f adi_29760 uid_10024d67e1ad7f doc_2165712 prm_856479 cmp_538 adv_415 |g cnt_US cit_NY ind_501 tim_384775603 plt_2 |v doc_2105905 doc_2109491 doc_2326069 doc_1026091 doc_2185001 doc_2797525 doc_2042602 doc_859777 doc_2173289 doc_2107596 doc_2103172 doc_2107617 doc_1026091 doc_2165712 doc_1026091 doc_2104258 doc_2797788 doc_1026091 doc_2562121 doc_2099393 doc_1026091 doc_2100563 doc_2184163 doc_2654785 doc_2074449 doc_2269496 doc_2109201 doc_1026091 doc_2104591 doc_2100429 doc_2797983 doc_2800012 doc_2804785 doc_2815372 doc_2798291 doc_2943232 doc_2934892 doc_2934760 doc_2931443 doc_2809392 doc_2942879 doc_2924281 doc_2938173 doc_2938562 doc_2942028 doc_2931749 doc_2101522 doc_2104699 doc_2812164 doc_2799530 doc_2936954 doc_1442918',\n",
              " '-1 |i dis_5781340 |f adi_103712 uid_10024d67e1ad7f doc_2165712 prm_1156375 cmp_5081 adv_1759 |g cnt_US cit_NY ind_501 tim_384775603 plt_2 |v doc_2105905 doc_2109491 doc_2326069 doc_1026091 doc_2185001 doc_2797525 doc_2042602 doc_859777 doc_2173289 doc_2107596 doc_2103172 doc_2107617 doc_1026091 doc_2165712 doc_1026091 doc_2104258 doc_2797788 doc_1026091 doc_2562121 doc_2099393 doc_1026091 doc_2100563 doc_2184163 doc_2654785 doc_2074449 doc_2269496 doc_2109201 doc_1026091 doc_2104591 doc_2100429 doc_2797983 doc_2800012 doc_2804785 doc_2815372 doc_2798291 doc_2943232 doc_2934892 doc_2934760 doc_2931443 doc_2809392 doc_2942879 doc_2924281 doc_2938173 doc_2938562 doc_2942028 doc_2931749 doc_2101522 doc_2104699 doc_2812164 doc_2799530 doc_2936954 doc_1442918']"
            ]
          },
          "execution_count": 71,
          "metadata": {},
          "output_type": "execute_result"
        }
      ],
      "source": [
        "df_val.rdd.map(convert_to_vw_class).take(10)"
      ]
    },
    {
      "cell_type": "code",
      "execution_count": null,
      "id": "6dfc67db",
      "metadata": {
        "id": "6dfc67db",
        "outputId": "45ededbf-62b2-4360-a350-c1bc659c2e60"
      },
      "outputs": [
        {
          "name": "stdout",
          "output_type": "stream",
          "text": [
            "Deleted /user/outbrain/data.train.vw\r\n"
          ]
        }
      ],
      "source": [
        "! hdfs dfs -rm -R \"/user/outbrain/data.train.vw\"\n",
        "df_train.rdd.map(convert_to_vw_class).saveAsTextFile(\"/user/outbrain/data.train.vw\")"
      ]
    },
    {
      "cell_type": "code",
      "execution_count": null,
      "id": "32402f55",
      "metadata": {
        "id": "32402f55",
        "outputId": "901fd771-5727-43af-9e31-3b4d638e0a15"
      },
      "outputs": [
        {
          "name": "stdout",
          "output_type": "stream",
          "text": [
            "Deleted /user/outbrain/data.val.vw\r\n"
          ]
        }
      ],
      "source": [
        "! hdfs dfs -rm -R \"/user/outbrain/data.val.vw\"\n",
        "df_val.rdd.map(convert_to_vw_class).saveAsTextFile(\"/user/outbrain/data.val.vw\")"
      ]
    },
    {
      "cell_type": "code",
      "execution_count": null,
      "id": "2ce1e0a3",
      "metadata": {
        "id": "2ce1e0a3"
      },
      "outputs": [],
      "source": [
        "! hdfs dfs -cat /user/outbrain/data.train.vw/* > train.vw\n",
        "! hdfs dfs -cat /user/outbrain/data.val.vw/* > val.vw"
      ]
    },
    {
      "cell_type": "markdown",
      "id": "5b008fd1",
      "metadata": {
        "id": "5b008fd1"
      },
      "source": [
        "## Training the rabbit"
      ]
    },
    {
      "cell_type": "code",
      "execution_count": null,
      "id": "8b8bbdfe",
      "metadata": {
        "scrolled": true,
        "id": "8b8bbdfe",
        "outputId": "e046607f-59cb-4881-eeb2-85b6d27d6491"
      },
      "outputs": [
        {
          "name": "stdout",
          "output_type": "stream",
          "text": [
            "Num weight bits = 18\r\n",
            "learning rate = 0.5\r\n",
            "initial_t = 0\r\n",
            "power_t = 0.5\r\n",
            "using no cache\r\n",
            "Reading datafile = \r\n",
            "num sources = 1\r\n",
            "driver:\r\n",
            "  --onethread           Disable parse thread\r\n",
            "VW options:\r\n",
            "  --ring_size arg (=256, ) size of example ring\r\n",
            "  --strict_parse           throw on malformed examples\r\n",
            "Update options:\r\n",
            "  -l [ --learning_rate ] arg Set learning rate\r\n",
            "  --power_t arg              t power value\r\n",
            "  --decay_learning_rate arg  Set Decay factor for learning_rate between passes\r\n",
            "  --initial_t arg            initial t value\r\n",
            "  --feature_mask arg         Use existing regressor to determine which \r\n",
            "                             parameters may be updated.  If no \r\n",
            "                             initial_regressor given, also used for initial \r\n",
            "                             weights.\r\n",
            "Weight options:\r\n",
            "  -i [ --initial_regressor ] arg  Initial regressor(s)\r\n",
            "  --initial_weight arg            Set all weights to an initial value of arg.\r\n",
            "  --random_weights                make initial weights random\r\n",
            "  --normal_weights                make initial weights normal\r\n",
            "  --truncated_normal_weights      make initial weights truncated normal\r\n",
            "  --sparse_weights                Use a sparse datastructure for weights\r\n",
            "  --input_feature_regularizer arg Per feature regularization input file\r\n",
            "Parallelization options:\r\n",
            "  --span_server arg                 Location of server for setting up spanning \r\n",
            "                                    tree\r\n",
            "  --unique_id arg (=0, )            unique id used for cluster parallel jobs\r\n",
            "  --total arg (=1, )                total number of nodes used in cluster \r\n",
            "                                    parallel job\r\n",
            "  --node arg (=0, )                 node number in cluster parallel job\r\n",
            "  --span_server_port arg (=26543, ) Port of the server for setting up spanning \r\n",
            "                                    tree\r\n",
            "Diagnostic options:\r\n",
            "  --version             Version information\r\n",
            "  -a [ --audit ]        print weights of features\r\n",
            "  -P [ --progress ] arg Progress update frequency. int: additive, float: \r\n",
            "                        multiplicative\r\n",
            "  --quiet               Don't output disgnostics and progress updates\r\n",
            "  --dry_run             Parse arguments and print corresponding metadata. Will \r\n",
            "                        not execute driver.\r\n",
            "  -h [ --help ]         Look here: http://hunch.net/~vw/ and click on Tutorial.\r\n",
            "Randomization options:\r\n",
            "  --random_seed arg     seed random number generator\r\n",
            "Feature options:\r\n",
            "  --hash arg                      how to hash the features. Available options: \r\n",
            "                                  strings, all\r\n",
            "  --hash_seed arg (=0, )          seed for hash function\r\n",
            "  --ignore arg                    ignore namespaces beginning with character \r\n",
            "                                  <arg>\r\n",
            "  --ignore_linear arg             ignore namespaces beginning with character \r\n",
            "                                  <arg> for linear terms only\r\n",
            "  --keep arg                      keep namespaces beginning with character \r\n",
            "                                  <arg>\r\n",
            "  --redefine arg                  redefine namespaces beginning with characters\r\n",
            "                                  of std::string S as namespace N. <arg> shall \r\n",
            "                                  be in form 'N:=S' where := is operator. Empty\r\n",
            "                                  N or S are treated as default namespace. Use \r\n",
            "                                  ':' as a wildcard in S.\r\n",
            "  -b [ --bit_precision ] arg      number of bits in the feature table\r\n",
            "  --noconstant                    Don't add a constant feature\r\n",
            "  -C [ --constant ] arg           Set initial value of constant\r\n",
            "  --ngram arg                     Generate N grams. To generate N grams for a \r\n",
            "                                  single namespace 'foo', arg should be fN.\r\n",
            "  --skips arg                     Generate skips in N grams. This in \r\n",
            "                                  conjunction with the ngram tag can be used to\r\n",
            "                                  generate generalized n-skip-k-gram. To \r\n",
            "                                  generate n-skips for a single namespace \r\n",
            "                                  'foo', arg should be fN.\r\n",
            "  --feature_limit arg             limit to N features. To apply to a single \r\n",
            "                                  namespace 'foo', arg should be fN\r\n",
            "  --affix arg                     generate prefixes/suffixes of features; \r\n",
            "                                  argument '+2a,-3b,+1' means generate 2-char \r\n",
            "                                  prefixes for namespace a, 3-char suffixes for\r\n",
            "                                  b and 1 char prefixes for default namespace\r\n",
            "  --spelling arg                  compute spelling features for a give \r\n",
            "                                  namespace (use '_' for default namespace)\r\n",
            "  --dictionary arg                read a dictionary for additional features \r\n",
            "                                  (arg either 'x:file' or just 'file')\r\n",
            "  --dictionary_path arg           look in this directory for dictionaries; \r\n",
            "                                  defaults to current directory or env{PATH}\r\n",
            "  --interactions arg              Create feature interactions of any level \r\n",
            "                                  between namespaces.\r\n",
            "  --permutations                  Use permutations instead of combinations for \r\n",
            "                                  feature interactions of same namespace.\r\n",
            "  --leave_duplicate_interactions  Don't remove interactions with duplicate \r\n",
            "                                  combinations of namespaces. For ex. this is a\r\n",
            "                                  duplicate: '-q ab -q ba' and a lot more in \r\n",
            "                                  '-q ::'.\r\n",
            "  -q [ --quadratic ] arg          Create and use quadratic features\r\n",
            "  --q: arg                        DEPRECATED ':' corresponds to a wildcard for \r\n",
            "                                  all printable characters\r\n",
            "  --cubic arg                     Create and use cubic features\r\n",
            "Example options:\r\n",
            "  -t [ --testonly ]                Ignore label information and just test\r\n",
            "  --holdout_off                    no holdout data in multiple passes\r\n",
            "  --holdout_period arg (=10, )     holdout period for test only\r\n",
            "  --holdout_after arg              holdout after n training examples, default \r\n",
            "                                   off (disables holdout_period)\r\n",
            "  --early_terminate arg (=3, )     Specify the number of passes tolerated when \r\n",
            "                                   holdout loss doesn't decrease before early \r\n",
            "                                   termination\r\n",
            "  --passes arg                     Number of Training Passes\r\n",
            "  --initial_pass_length arg        initial number of examples per pass\r\n",
            "  --examples arg                   number of examples to parse\r\n",
            "  --min_prediction arg             Smallest prediction to output\r\n",
            "  --max_prediction arg             Largest prediction to output\r\n",
            "  --sort_features                  turn this on to disregard order in which \r\n",
            "                                   features have been defined. This will lead \r\n",
            "                                   to smaller cache sizes\r\n",
            "  --loss_function arg (=squared, ) Specify the loss function to be used, uses \r\n",
            "                                   squared by default. Currently available ones\r\n",
            "                                   are squared, classic, hinge, logistic, \r\n",
            "                                   quantile and poisson.\r\n",
            "  --quantile_tau arg (=0.5, )      Parameter \\tau associated with Quantile \r\n",
            "                                   loss. Defaults to 0.5\r\n",
            "  --l1 arg                         l_1 lambda\r\n",
            "  --l2 arg                         l_2 lambda\r\n",
            "  --no_bias_regularization         no bias in regularization\r\n",
            "  --named_labels arg               use names for labels (multiclass, etc.) \r\n",
            "                                   rather than integers, argument specified all\r\n",
            "                                   possible labels, comma-sep, eg \r\n",
            "                                   \"--named_labels Noun,Verb,Adj,Punc\"\r\n",
            "Output model:\r\n",
            "  -f [ --final_regressor ] arg          Final regressor\r\n",
            "  --readable_model arg                  Output human-readable final regressor \r\n",
            "                                        with numeric features\r\n",
            "  --invert_hash arg                     Output human-readable final regressor \r\n",
            "                                        with feature names.  Computationally \r\n",
            "                                        expensive.\r\n",
            "  --save_resume                         save extra state so learning can be \r\n",
            "                                        resumed later with new data\r\n",
            "  --preserve_performance_counters       reset performance counters when \r\n",
            "                                        warmstarting\r\n",
            "  --save_per_pass                       Save the model after every pass over \r\n",
            "                                        data\r\n",
            "  --output_feature_regularizer_binary arg\r\n",
            "                                        Per feature regularization output file\r\n",
            "  --output_feature_regularizer_text arg Per feature regularization output file,\r\n",
            "                                        in text\r\n",
            "  --id arg                              User supplied ID embedded into the \r\n",
            "                                        final regressor\r\n",
            "Output options:\r\n",
            "  -p [ --predictions ] arg     File to output predictions to\r\n",
            "  -r [ --raw_predictions ] arg File to output unnormalized predictions to\r\n",
            "Audit Regressor:\r\n",
            "  --audit_regressor arg stores feature names and their regressor values. Same \r\n",
            "                        dataset must be used for both regressor training and \r\n",
            "                        this mode.\r\n",
            "Search options:\r\n",
            "  --search arg                          Use learning to search, \r\n",
            "                                        argument=maximum action id or 0 for LDF\r\n",
            "  --search_task arg                     the search task (use \"--search_task \r\n",
            "                                        list\" to get a list of available tasks)\r\n",
            "  --search_metatask arg                 the search metatask (use \r\n",
            "                                        \"--search_metatask list\" to get a list \r\n",
            "                                        of available metatasks)\r\n",
            "  --search_interpolation arg            at what level should interpolation \r\n",
            "                                        happen? [*data|policy]\r\n",
            "  --search_rollout arg                  how should rollouts be executed?       \r\n",
            "                                            [policy|oracle|*mix_per_state|mix_p\r\n",
            "                                        er_roll|none]\r\n",
            "  --search_rollin arg                   how should past trajectories be \r\n",
            "                                        generated? [policy|oracle|*mix_per_stat\r\n",
            "                                        e|mix_per_roll]\r\n",
            "  --search_passes_per_policy arg (=1, ) number of passes per policy (only valid\r\n",
            "                                        for search_interpolation=policy)\r\n",
            "  --search_beta arg (=0.5, )            interpolation rate for policies (only \r\n",
            "                                        valid for search_interpolation=policy)\r\n",
            "  --search_alpha arg (=1e-10, )         annealed beta = 1-(1-alpha)^t (only \r\n",
            "                                        valid for search_interpolation=data)\r\n",
            "  --search_total_nb_policies arg        if we are going to train the policies \r\n",
            "                                        through multiple separate calls to vw, \r\n",
            "                                        we need to specify this parameter and \r\n",
            "                                        tell vw how many policies are \r\n",
            "                                        eventually going to be trained\r\n",
            "  --search_trained_nb_policies arg      the number of trained policies in a \r\n",
            "                                        file\r\n",
            "  --search_allowed_transitions arg      read file of allowed transitions [def: \r\n",
            "                                        all transitions are allowed]\r\n",
            "  --search_subsample_time arg           instead of training at all timesteps, \r\n",
            "                                        use a subset. if value in (0,1), train \r\n",
            "                                        on a random v%. if v>=1, train on \r\n",
            "                                        precisely v steps per example, if \r\n",
            "                                        v<=-1, use active learning\r\n",
            "  --search_neighbor_features arg        copy features from neighboring lines. \r\n",
            "                                        argument looks like: '-1:a,+2' meaning \r\n",
            "                                        copy previous line namespace a and next\r\n",
            "                                        next line from namespace _unnamed_, \r\n",
            "                                        where ',' separates them\r\n",
            "  --search_rollout_num_steps arg        how many calls of \"loss\" before we stop\r\n",
            "                                        really predicting on rollouts and \r\n",
            "                                        switch to oracle (default means \r\n",
            "                                        \"infinite\")\r\n",
            "  --search_history_length arg (=1, )    some tasks allow you to specify how \r\n",
            "                                        much history their depend on; specify \r\n",
            "                                        that here\r\n",
            "  --search_no_caching                   turn off the built-in caching ability \r\n",
            "                                        (makes things slower, but technically \r\n",
            "                                        more safe)\r\n",
            "  --search_xv                           train two separate policies, \r\n",
            "                                        alternating prediction/learning\r\n",
            "  --search_perturb_oracle arg (=0, )    perturb the oracle on rollin with this \r\n",
            "                                        probability\r\n",
            "  --search_linear_ordering              insist on generating examples in linear\r\n",
            "                                        order (def: hoopla permutation)\r\n",
            "  --search_active_verify arg            verify that active learning is doing \r\n",
            "                                        the right thing (arg = multiplier, \r\n",
            "                                        should be = cost_range * range_c)\r\n",
            "  --search_save_every_k_runs arg        save model every k runs\r\n",
            "Experience Replay:\r\n",
            "  --replay_c arg              use experience replay at a specified level \r\n",
            "                              [b=classification/regression, m=multiclass, \r\n",
            "                              c=cost sensitive] with specified buffer size\r\n",
            "  --replay_c_count arg (=1, ) how many times (in expectation) should each \r\n",
            "                              example be played (default: 1 = permuting)\r\n",
            "Explore evaluation:\r\n",
            "  --explore_eval        Evaluate explore_eval adf policies\r\n",
            "  --multiplier arg      Multiplier used to make all rejection sample \r\n",
            "                        probabilities <= 1\r\n",
            "Offset tree Options:\r\n",
            "  --ot arg              Offset tree with <k> labels\r\n",
            "Make csoaa_ldf into Contextual Bandit:\r\n",
            "  --cbify_ldf           Convert csoaa_ldf into a contextual bandit problem\r\n",
            "  --loss0 arg (=0, )    loss for correct label\r\n",
            "  --loss1 arg (=1, )    loss for incorrect label\r\n",
            "Make Multiclass into Contextual Bandit:\r\n",
            "  --cbify arg                  Convert multiclass on <k> classes into a \r\n",
            "                               contextual bandit problem\r\n",
            "  --cbify_cs                   Consume cost-sensitive classification examples \r\n",
            "                               instead of multiclass\r\n",
            "  --cbify_reg                  Consume regression examples instead of \r\n",
            "                               multiclass and cost sensitive\r\n",
            "  --cats arg (=0, )            Continuous action tree with smoothing\r\n",
            "  --cb_discrete                Discretizes continuous space and adds cb_explore\r\n",
            "                               as option\r\n",
            "  --min_value arg              Minimum continuous value\r\n",
            "  --max_value arg              Maximum continuous value\r\n",
            "  --loss_option arg (=0, )     loss options for regression - 0:squared, \r\n",
            "                               1:absolute, 2:0/1\r\n",
            "  --loss_report arg (=0, )     loss report option - 0:normalized, \r\n",
            "                               1:denormalized\r\n",
            "  --loss_01_ratio arg (=0.1, ) ratio of zero loss for 0/1 loss\r\n",
            "  --loss0 arg (=0, )           loss for correct label\r\n",
            "  --loss1 arg (=1, )           loss for incorrect label\r\n",
            "Continuous action tree with smoothing:\r\n",
            "  --cats arg            Continuous action tree with smoothing\r\n",
            "  --cats_pdf arg        Continuous action tree with smoothing (pdf)\r\n",
            "Continuous actions:\r\n",
            "  --sample_pdf          Sample a pdf and pick a continuous valued action\r\n",
            "Continuous action tree with smoothing:\r\n",
            "  --cats_pdf arg        Continuous action tree with smoothing (pdf)\r\n",
            "  --pmf_to_pdf arg      Convert pmf to pdf\r\n",
            "  --cats_tree arg       Continuous action tree\r\n",
            "Continuous actions:\r\n",
            "  --cb_explore_pdf        Sample a pdf and pick a continuous valued action\r\n",
            "  --epsilon arg (=0.05, ) epsilon-greedy exploration\r\n",
            "  --min_value arg (=0, )  min value for continuous range\r\n",
            "  --max_value arg (=1, )  max value for continuous range\r\n",
            "PMF to PDF:\r\n",
            "  --pmf_to_pdf arg (=0, ) Convert discrete PDF into continuous PDF.\r\n",
            "  --min_value arg         Minimum continuous value\r\n",
            "  --max_value arg         Maximum continuous value\r\n",
            "  --bandwidth arg (=1, )  Bandwidth (radius) of randomization around discrete \r\n",
            "                          actions in number of actions.\r\n",
            "Continuous actions:\r\n",
            "  --get_pmf             Convert a single multiclass prediction to a pmf\r\n",
            "Make Multiclass into Warm-starting Contextual Bandit:\r\n",
            "  --warm_cb arg                        Convert multiclass on <k> classes into a\r\n",
            "                                       contextual bandit problem\r\n",
            "  --warm_cb_cs                         consume cost-sensitive classification \r\n",
            "                                       examples instead of multiclass\r\n",
            "  --loss0 arg (=0, )                   loss for correct label\r\n",
            "  --loss1 arg (=1, )                   loss for incorrect label\r\n",
            "  --warm_start arg (=0, )              number of training examples for warm \r\n",
            "                                       start phase\r\n",
            "  --epsilon arg                        epsilon-greedy exploration\r\n",
            "  --interaction arg (=4294967295, )    number of examples for the interactive \r\n",
            "                                       contextual bandit learning phase\r\n",
            "  --warm_start_update                  indicator of warm start updates\r\n",
            "  --interaction_update                 indicator of interaction updates\r\n",
            "  --corrupt_type_warm_start arg (=1, ) type of label corruption in the warm \r\n",
            "                                       start phase (1: uniformly at random, 2: \r\n",
            "                                       circular, 3: replacing with overwriting \r\n",
            "                                       label)\r\n",
            "  --corrupt_prob_warm_start arg (=0, ) probability of label corruption in the \r\n",
            "                                       warm start phase\r\n",
            "  --choices_lambda arg (=1, )          the number of candidate lambdas to \r\n",
            "                                       aggregate (lambda is the importance \r\n",
            "                                       weight parameter between the two \r\n",
            "                                       sources)\r\n",
            "  --lambda_scheme arg (=1, )           The scheme for generating candidate \r\n",
            "                                       lambda set (1: center lambda=0.5, 2: \r\n",
            "                                       center lambda=0.5, min lambda=0, max \r\n",
            "                                       lambda=1, 3: center lambda=epsilon/(1+ep\r\n",
            "                                       silon), 4: center lambda=epsilon/(1+epsi\r\n",
            "                                       lon), min lambda=0, max lambda=1); the \r\n",
            "                                       rest of candidate lambda values are \r\n",
            "                                       generated using a doubling scheme\r\n",
            "  --overwrite_label arg (=1, )         the label used by type 3 corruptions \r\n",
            "                                       (overwriting)\r\n",
            "  --sim_bandit                         simulate contextual bandit updates on \r\n",
            "                                       warm start examples\r\n",
            "Slates:\r\n",
            "  --slates              EXPERIMENTAL\r\n",
            "EXPERIMENTAL: Conditional Contextual Bandit Exploration with Action Dependent Features:\r\n",
            "  --ccb_explore_adf     EXPERIMENTAL: Do Conditional Contextual Bandit learning\r\n",
            "                        with multiline action dependent features.\r\n",
            "  --all_slots_loss      Report average loss from all slots\r\n",
            "CB Sample:\r\n",
            "  --cb_sample           Sample from CB pdf and swap top action.\r\n",
            "CB Distributionally Robust Optimization:\r\n",
            "  --cb_dro                     Use DRO for cb learning\r\n",
            "  --cb_dro_alpha arg (=0.05, ) Confidence level for cb dro\r\n",
            "  --cb_dro_tau arg (=0.999, )  Time constant for count decay for cb dro\r\n",
            "  --cb_dro_wmax arg (=inf, )   maximum importance weight for cb_dro\r\n",
            "Contextual Bandit Exploration with Action Dependent Features:\r\n",
            "  --cb_explore_adf      Online explore-exploit for a contextual bandit problem \r\n",
            "                        with multiline action dependent features\r\n",
            "  --epsilon arg         epsilon-greedy exploration\r\n",
            "  --bag arg             bagging-based exploration\r\n",
            "  --greedify            always update first policy once in bagging\r\n",
            "  --first_only          Only explore the first action in a tie-breaking event\r\n",
            "Contextual Bandit Exploration with Action Dependent Features:\r\n",
            "  --cb_explore_adf      Online explore-exploit for a contextual bandit problem \r\n",
            "                        with multiline action dependent features\r\n",
            "  --cover arg           Online cover based exploration\r\n",
            "  --psi arg (=1, )      disagreement parameter for cover\r\n",
            "  --nounif              do not explore uniformly on zero-probability actions in\r\n",
            "                        cover\r\n",
            "  --first_only          Only explore the first action in a tie-breaking event\r\n",
            "  --cb_type arg         contextual bandit method to use in {ips,dr,mtr}. \r\n",
            "                        Default: mtr\r\n",
            "Contextual Bandit Exploration with Action Dependent Features:\r\n",
            "  --cb_explore_adf      Online explore-exploit for a contextual bandit problem \r\n",
            "                        with multiline action dependent features\r\n",
            "  --first arg           tau-first exploration\r\n",
            "  --epsilon arg         epsilon-greedy exploration\r\n",
            "Contextual Bandit Exploration with Action Dependent Features:\r\n",
            "  --cb_explore_adf              Online explore-exploit for a contextual bandit \r\n",
            "                                problem with multiline action dependent \r\n",
            "                                features\r\n",
            "  --squarecb                    SquareCB exploration\r\n",
            "  --gamma_scale arg (=10, )     Sets SquareCB greediness parameter to \r\n",
            "                                gamma=[gamma_scale]*[num examples]^1/2\r\n",
            "  --gamma_exponent arg (=0.5, ) Exponent on [num examples] in SquareCB \r\n",
            "                                greediness parameter gamma.\r\n",
            "  --elim                        Only perform SquareCB exploration over \r\n",
            "                                plausible actions (computed via RegCB strategy)\r\n",
            "  --mellowness arg (=0.001, )   Mellowness parameter c_0 for computing \r\n",
            "                                plausible action set. Only used with --elim\r\n",
            "  --cb_min_cost arg (=0, )      Lower bound on cost. Only used with --elim\r\n",
            "  --cb_max_cost arg (=1, )      Upper bound on cost. Only used with --elim\r\n",
            "  --cb_type arg                 contextual bandit method to use in \r\n",
            "                                {ips,dr,mtr}. Default: mtr\r\n",
            "Contextual Bandit Exploration with Action Dependent Features:\r\n",
            "  --cb_explore_adf          Online explore-exploit for a contextual bandit \r\n",
            "                            problem with multiline action dependent features\r\n",
            "  --regcb                   RegCB-elim exploration\r\n",
            "  --regcbopt                RegCB optimistic exploration\r\n",
            "  --mellowness arg (=0.1, ) RegCB mellowness parameter c_0. Default 0.1\r\n",
            "  --cb_min_cost arg (=0, )  lower bound on cost\r\n",
            "  --cb_max_cost arg (=1, )  upper bound on cost\r\n",
            "  --first_only              Only explore the first action in a tie-breaking \r\n",
            "                            event\r\n",
            "  --cb_type arg             contextual bandit method to use in {ips,dr,mtr}. \r\n",
            "                            Default: mtr\r\n",
            "Contextual Bandit Exploration with Action Dependent Features:\r\n",
            "  --cb_explore_adf             Online explore-exploit for a contextual bandit \r\n",
            "                               problem with multiline action dependent features\r\n",
            "  --epsilon arg                minimum exploration probability\r\n",
            "  --rnd arg                    rnd based exploration\r\n",
            "  --rnd_alpha arg (=0.1, )     ci width for rnd (bigger => more exploration on \r\n",
            "                               repeating features)\r\n",
            "  --rnd_invlambda arg (=0.1, ) covariance regularization strength rnd (bigger \r\n",
            "                               => more exploration on new features)\r\n",
            "Contextual Bandit Exploration with Action Dependent Features:\r\n",
            "  --cb_explore_adf      Online explore-exploit for a contextual bandit problem \r\n",
            "                        with multiline action dependent features\r\n",
            "  --epsilon arg         epsilon-greedy exploration\r\n",
            "  --softmax             softmax exploration\r\n",
            "  --lambda arg (=1, )   parameter for softmax\r\n",
            "Contextual Bandit Exploration with Action Dependent Features:\r\n",
            "  --cb_explore_adf      Online explore-exploit for a contextual bandit problem \r\n",
            "                        with multiline action dependent features\r\n",
            "  --epsilon arg         epsilon-greedy exploration\r\n",
            "  --first_only          Only explore the first action in a tie-breaking event\r\n",
            "Contextual Bandit Exploration:\r\n",
            "  --cb_explore arg        Online explore-exploit for a <k> action contextual \r\n",
            "                          bandit problem\r\n",
            "  --first arg             tau-first exploration\r\n",
            "  --epsilon arg (=0.05, ) epsilon-greedy exploration\r\n",
            "  --bag arg               bagging-based exploration\r\n",
            "  --cover arg             Online cover based exploration\r\n",
            "  --nounif                do not explore uniformly on zero-probability actions \r\n",
            "                          in cover\r\n",
            "  --psi arg (=1, )        disagreement parameter for cover\r\n",
            "CATS Tree Options:\r\n",
            "  --cats_tree arg        CATS Tree with <k> labels\r\n",
            "  --bandwidth arg (=0, ) bandwidth for continuous actions in terms of #actions\r\n",
            "  --link arg             Specify the link function: identity, logistic, glf1 or\r\n",
            "                         poisson\r\n",
            "Multiworld Testing Options:\r\n",
            "  --multiworld_test arg Evaluate features as a policies\r\n",
            "  --learn arg           Do Contextual Bandit learning on <n> classes.\r\n",
            "  --exclude_eval        Discard mwt policy features before learning\r\n",
            "Contextual Bandit with Action Dependent Features:\r\n",
            "  --cb_adf              Do Contextual Bandit learning with multiline action \r\n",
            "                        dependent features.\r\n",
            "  --rank_all            Return actions sorted by score order\r\n",
            "  --no_predict          Do not do a prediction when training\r\n",
            "  --clip_p arg (=0, )   Clipping probability in importance weight. Default: 0.f\r\n",
            "                        (no clipping).\r\n",
            "  --cb_type arg         contextual bandit method to use in {ips, dm, dr, mtr, \r\n",
            "                        sm}. Default: mtr\r\n",
            "Contextual Bandit Options:\r\n",
            "  --cb arg              Use contextual bandit learning with <k> costs\r\n",
            "  --cb_type arg         contextual bandit method to use in {ips,dm,dr}\r\n",
            "  --eval                Evaluate a policy rather than optimizing.\r\n",
            "Cost Sensitive One Against All with Label Dependent Features:\r\n",
            "  --csoaa_ldf arg       Use one-against-all multiclass learning with label \r\n",
            "                        dependent features.\r\n",
            "  --ldf_override arg    Override singleline or multiline from csoaa_ldf or \r\n",
            "                        wap_ldf, eg if stored in file\r\n",
            "  --csoaa_rank          Return actions sorted by score order\r\n",
            "  --probabilities       predict probabilites of all classes\r\n",
            "Cost Sensitive One Against All with Label Dependent Features:\r\n",
            "  --wap_ldf arg         Use weighted all-pairs multiclass learning with label \r\n",
            "                        dependent features.  Specify singleline or multiline.\r\n",
            "Interact via elementwise multiplication:\r\n",
            "  --interact arg        Put weights on feature products from namespaces <n1> \r\n",
            "                        and <n2>\r\n",
            "Cost Sensitive One Against All:\r\n",
            "  --csoaa arg           One-against-all multiclass with <k> costs\r\n",
            "Cost-sensitive Active Learning:\r\n",
            "  --cs_active arg                       Cost-sensitive active learning with <k>\r\n",
            "                                        costs\r\n",
            "  --simulation                          cost-sensitive active learning \r\n",
            "                                        simulation mode\r\n",
            "  --baseline                            cost-sensitive active learning baseline\r\n",
            "  --domination arg (=1, )               cost-sensitive active learning use \r\n",
            "                                        domination. Default 1\r\n",
            "  --mellowness arg (=0.1, )             mellowness parameter c_0. Default 0.1.\r\n",
            "  --range_c arg (=0.5, )                parameter controlling the threshold for\r\n",
            "                                        per-label cost uncertainty. Default \r\n",
            "                                        0.5.\r\n",
            "  --max_labels arg (=18446744073709551615, )\r\n",
            "                                        maximum number of label queries.\r\n",
            "  --min_labels arg (=18446744073709551615, )\r\n",
            "                                        minimum number of label queries.\r\n",
            "  --cost_max arg (=1, )                 cost upper bound. Default 1.\r\n",
            "  --cost_min arg (=0, )                 cost lower bound. Default 0.\r\n",
            "  --csa_debug                           print debug stuff for cs_active\r\n",
            "Probabilistic Label Tree :\r\n",
            "  --plt arg                Probabilistic Label Tree with <k> labels\r\n",
            "  --kary_tree arg (=2, )   use <k>-ary tree\r\n",
            "  --threshold arg (=0.5, ) predict labels with conditional marginal probability\r\n",
            "                           greater than <thr> threshold\r\n",
            "  --top_k arg (=0, )       predict top-<k> labels instead of labels above \r\n",
            "                           threshold\r\n",
            "Multilabel One Against All:\r\n",
            "  --multilabel_oaa arg  One-against-all multilabel with <k> labels\r\n",
            "importance weight classes:\r\n",
            "  --classweight arg     importance weight multiplier for class\r\n",
            "Memory Tree:\r\n",
            "  --memory_tree arg (=0, )             Make a memory tree with at most <n> \r\n",
            "                                       nodes\r\n",
            "  --max_number_of_labels arg (=10, )   max number of unique label\r\n",
            "  --leaf_example_multiplier arg (=1, ) multiplier on examples per leaf (default\r\n",
            "                                       = log nodes)\r\n",
            "  --alpha arg (=0.1, )                 Alpha\r\n",
            "  --dream_repeats arg (=1, )           number of dream operations per example \r\n",
            "                                       (default = 1)\r\n",
            "  --top_K arg (=1, )                   top K prediction error (default 1)\r\n",
            "  --learn_at_leaf                      whether or not learn at leaf (default = \r\n",
            "                                       True)\r\n",
            "  --oas                                use oas at the leaf\r\n",
            "  --dream_at_update arg (=0, )         turn on dream operations at reward based\r\n",
            "                                       update as well\r\n",
            "  --online                             turn on dream operations at reward based\r\n",
            "                                       update as well\r\n",
            "Recall Tree:\r\n",
            "  --recall_tree arg       Use online tree for multiclass\r\n",
            "  --max_candidates arg    maximum number of labels per leaf in the tree\r\n",
            "  --bern_hyper arg (=1, ) recall tree depth penalty\r\n",
            "  --max_depth arg         maximum depth of the tree, default log_2 (#classes)\r\n",
            "  --node_only             only use node features, not full path features\r\n",
            "  --randomized_routing    randomized routing\r\n",
            "Logarithmic Time Multiclass Tree:\r\n",
            "  --log_multi arg              Use online tree for multiclass\r\n",
            "  --no_progress                disable progressive validation\r\n",
            "  --swap_resistance arg (=4, ) higher = more resistance to swap, default=4\r\n",
            "Error Correcting Tournament Options:\r\n",
            "  --ect arg                Error correcting tournament with <k> labels\r\n",
            "  --error arg (=0, )       errors allowed by ECT\r\n",
            "  --link arg (=identity, ) Specify the link function: identity, logistic, glf1 \r\n",
            "                           or poisson\r\n",
            "Boosting:\r\n",
            "  --boosting arg        Online boosting with <N> weak learners\r\n",
            "  --gamma arg (=0.1, )  weak learner's edge (=0.1), used only by online BBM\r\n",
            "  --alg arg (=BBM, )    specify the boosting algorithm: BBM (default), logistic\r\n",
            "                        (AdaBoost.OL.W), adaptive (AdaBoost.OL)\r\n",
            "One Against All Options:\r\n",
            "  --oaa arg             One-against-all multiclass with <k> labels\r\n",
            "  --oaa_subsample arg   subsample this number of negative examples when \r\n",
            "                        learning\r\n",
            "  --probabilities       predict probabilites of all classes\r\n",
            "  --scores              output raw scores per class\r\n",
            "Top K:\r\n",
            "  --top arg             top k recommendation\r\n",
            "Experience Replay:\r\n",
            "  --replay_m arg              use experience replay at a specified level \r\n",
            "                              [b=classification/regression, m=multiclass, \r\n",
            "                              c=cost sensitive] with specified buffer size\r\n",
            "  --replay_m_count arg (=1, ) how many times (in expectation) should each \r\n",
            "                              example be played (default: 1 = permuting)\r\n",
            "Binary loss:\r\n",
            "  --binary              report loss as binary classification on -1,1\r\n",
            "Bootstrap:\r\n",
            "  --bootstrap arg       k-way bootstrap by online importance resampling\r\n",
            "  --bs_type arg         prediction type {mean,vote}\r\n",
            "scorer options:\r\n",
            "  --link arg (=identity, ) Specify the link function: identity, logistic, glf1 \r\n",
            "                           or poisson\r\n",
            "Stagewise polynomial options:\r\n",
            "  --stage_poly                use stagewise polynomial feature learning\r\n",
            "  --sched_exponent arg (=1, ) exponent controlling quantity of included \r\n",
            "                              features\r\n",
            "  --batch_sz arg (=1000, )    multiplier on batch size before including more \r\n",
            "                              features\r\n",
            "  --batch_sz_no_doubling      batch_sz does not double\r\n",
            "Low Rank Quadratics FA:\r\n",
            "  --lrqfa arg           use low rank quadratic features with field aware \r\n",
            "                        weights\r\n",
            "Low Rank Quadratics:\r\n",
            "  --lrq arg             use low rank quadratic features\r\n",
            "  --lrqdropout          use dropout training for low rank quadratic features\r\n",
            "Autolink:\r\n",
            "  --autolink arg        create link function with polynomial d\r\n",
            "VW options:\r\n",
            "  --marginal arg                   substitute marginal label estimates for ids\r\n",
            "  --initial_denominator arg (=1, ) initial denominator\r\n",
            "  --initial_numerator arg (=0.5, ) initial numerator\r\n",
            "  --compete                        enable competition with marginal features\r\n",
            "  --update_before_learn            update marginal values before learning\r\n",
            "  --unweighted_marginals           ignore importance weights when computing \r\n",
            "                                   marginals\r\n",
            "  --decay arg (=0, )               decay multiplier per event (1e-3 for \r\n",
            "                                   example)\r\n",
            "Matrix Factorization Reduction:\r\n",
            "  --new_mf arg          rank for reduction-based matrix factorization\r\n",
            "Neural Network:\r\n",
            "  --nn arg              Sigmoidal feedforward network with <k> hidden units\r\n",
            "  --inpass              Train or test sigmoidal feedforward network with input \r\n",
            "                        passthrough.\r\n",
            "  --multitask           Share hidden layer across all reduced tasks.\r\n",
            "  --dropout             Train or test sigmoidal feedforward network using \r\n",
            "                        dropout.\r\n",
            "  --meanfield           Train or test sigmoidal feedforward network using mean \r\n",
            "                        field.\r\n",
            "Confidence:\r\n",
            "  --confidence                 Get confidence for binary predictions\r\n",
            "  --confidence_after_training  Confidence after training\r\n",
            "Active Learning with Cover:\r\n",
            "  --active_cover                enable active learning with cover\r\n",
            "  --mellowness arg (=8, )       active learning mellowness parameter c_0. \r\n",
            "                                Default 8.\r\n",
            "  --alpha arg (=1, )            active learning variance upper bound parameter \r\n",
            "                                alpha. Default 1.\r\n",
            "  --beta_scale arg (=3.16228, ) active learning variance upper bound parameter \r\n",
            "                                beta_scale. Default std::sqrt(10).\r\n",
            "  --cover arg (=12, )           cover size. Default 12.\r\n",
            "  --oracular                    Use Oracular-CAL style query or not. Default \r\n",
            "                                false.\r\n",
            "Active Learning:\r\n",
            "  --active                enable active learning\r\n",
            "  --simulation            active learning simulation mode\r\n",
            "  --mellowness arg (=8, ) active learning mellowness parameter c_0. Default 8\r\n",
            "Experience Replay:\r\n",
            "  --replay_b arg              use experience replay at a specified level \r\n",
            "                              [b=classification/regression, m=multiclass, \r\n",
            "                              c=cost sensitive] with specified buffer size\r\n",
            "  --replay_b_count arg (=1, ) how many times (in expectation) should each \r\n",
            "                              example be played (default: 1 = permuting)\r\n",
            "Baseline options:\r\n",
            "  --baseline            Learn an additive baseline (from constant features) and\r\n",
            "                        a residual separately in regression.\r\n",
            "  --lr_multiplier arg   learning rate multiplier for baseline model\r\n",
            "  --global_only         use separate example with only global constant for \r\n",
            "                        baseline predictions\r\n",
            "  --check_enabled       only use baseline when the example contains enabled \r\n",
            "                        flag\r\n",
            "OjaNewton options:\r\n",
            "  --OjaNewton                    Online Newton with Oja's Sketch\r\n",
            "  --sketch_size arg (=10, )      size of sketch\r\n",
            "  --epoch_size arg (=1, )        size of epoch\r\n",
            "  --alpha arg (=1, )             mutiplicative constant for indentiy\r\n",
            "  --alpha_inverse arg            one over alpha, similar to learning rate\r\n",
            "  --learning_rate_cnt arg (=2, ) constant for the learning rate 1/t\r\n",
            "  --normalize arg                normalize the features or not\r\n",
            "  --random_init arg              randomize initialization of Oja or not\r\n",
            "LBFGS and Conjugate Gradient options:\r\n",
            "  --conjugate_gradient  use conjugate gradient based optimization\r\n",
            "LBFGS and Conjugate Gradient options:\r\n",
            "  --bfgs                       use conjugate gradient based optimization\r\n",
            "  --hessian_on                 use second derivative in line search\r\n",
            "  --mem arg (=15, )            memory in bfgs\r\n",
            "  --termination arg (=0.001, ) Termination threshold\r\n",
            "Latent Dirichlet Allocation:\r\n",
            "  --lda arg                    Run lda with <int> topics\r\n",
            "  --lda_alpha arg (=0.1, )     Prior on sparsity of per-document topic weights\r\n",
            "  --lda_rho arg (=0.1, )       Prior on sparsity of topic distributions\r\n",
            "  --lda_D arg (=10000, )       Number of documents\r\n",
            "  --lda_epsilon arg (=0.001, ) Loop convergence threshold\r\n",
            "  --minibatch arg (=1, )       Minibatch size, for LDA\r\n",
            "  --math-mode arg (=0, )       Math mode: simd, accuracy, fast-approx\r\n",
            "  --metrics                    Compute metrics\r\n",
            "Noop Learner:\r\n",
            "  --noop                do no learning\r\n",
            "Print psuedolearner:\r\n",
            "  --print               print examples\r\n",
            "Gradient Descent Matrix Factorization:\r\n",
            "  --rank arg            rank for matrix factorization.\r\n",
            "  --bfgs                Option not supported by this reduction\r\n",
            "  --conjugate_gradient  Option not supported by this reduction\r\n",
            "Network sending:\r\n",
            "  --sendto arg          send examples to <host>\r\n",
            "Stochastic Variance Reduced Gradient:\r\n",
            "  --svrg                  Streaming Stochastic Variance Reduced Gradient\r\n",
            "  --stage_size arg (=1, ) Number of passes per SVRG stage\r\n",
            "Follow the Regularized Leader:\r\n",
            "  --ftrl                FTRL: Follow the Proximal Regularized Leader\r\n",
            "  --coin                Coin betting optimizer\r\n",
            "  --pistol              PiSTOL: Parameter-free STOchastic Learning\r\n",
            "  --ftrl_alpha arg      Learning rate for FTRL optimization\r\n",
            "  --ftrl_beta arg       Learning rate for FTRL optimization\r\n",
            "Kernel SVM:\r\n",
            "  --ksvm                   kernel svm\r\n",
            "  --reprocess arg (=1, )   number of reprocess steps for LASVM\r\n",
            "  --pool_greedy            use greedy selection on mini pools\r\n",
            "  --para_active            do parallel active learning\r\n",
            "  --pool_size arg (=1, )   size of pools for active learning\r\n",
            "  --subsample arg (=1, )   number of items to subsample from the pool\r\n",
            "  --kernel arg (=linear, ) type of kernel (rbf or linear (default))\r\n",
            "  --bandwidth arg (=1, )   bandwidth of rbf kernel\r\n",
            "  --degree arg (=2, )      degree of poly kernel\r\n",
            "Gradient Descent options:\r\n",
            "  --sgd                  use regular stochastic gradient descent update.\r\n",
            "  --adaptive             use adaptive, individual learning rates.\r\n",
            "  --adax                 use adaptive learning rates with x^2 instead of g^2x^2\r\n",
            "  --invariant            use safe/importance aware updates.\r\n",
            "  --normalized           use per feature normalized updates\r\n",
            "  --sparse_l2 arg (=0, ) use per feature normalized updates\r\n",
            "  --l1_state arg (=0, )  use per feature normalized updates\r\n",
            "  --l2_state arg (=1, )  use per feature normalized updates\r\n",
            "Input options:\r\n",
            "  -d [ --data ] arg     Example set\r\n",
            "  --daemon              persistent daemon mode on port 26542\r\n",
            "  --foreground          in persistent daemon mode, do not run in the background\r\n",
            "  --port arg            port to listen on; use 0 to pick unused port\r\n",
            "  --num_children arg    number of children for persistent daemon mode\r\n",
            "  --pid_file arg        Write pid file in persistent daemon mode\r\n",
            "  --port_file arg       Write port used in persistent daemon mode\r\n",
            "  -c [ --cache ]        Use a cache.  The default is <data>.cache\r\n",
            "  --cache_file arg      The location(s) of cache_file.\r\n",
            "  --json                Enable JSON parsing.\r\n",
            "  --dsjson              Enable Decision Service JSON parsing.\r\n",
            "  -k [ --kill_cache ]   do not reuse existing cache: create a new one always\r\n",
            "  --compressed          use gzip format whenever possible. If a cache file is \r\n",
            "                        being created, this option creates a compressed cache \r\n",
            "                        file. A mixture of raw-text & compressed inputs are \r\n",
            "                        supported with autodetection.\r\n",
            "  --no_stdin            do not default to reading from stdin\r\n",
            "  --no_daemon           Force a loaded daemon or active learning model to \r\n",
            "                        accept local input instead of starting in daemon mode\r\n",
            "  --chain_hash          Enable chain hash in JSON for feature name and string \r\n",
            "                        feature value. e.g. {'A': {'B': 'C'}} is hashed as \r\n",
            "                        A^B^C. Note: this will become the default in a future \r\n",
            "                        version, so enabling this option will migrate you to \r\n",
            "                        the new behavior and silence the warning.\r\n"
          ]
        }
      ],
      "source": [
        "! vw --help"
      ]
    },
    {
      "cell_type": "code",
      "execution_count": null,
      "id": "01b21474",
      "metadata": {
        "id": "01b21474",
        "outputId": "55625f41-bee7-4389-917e-7369bf008c2c"
      },
      "outputs": [
        {
          "name": "stdout",
          "output_type": "stream",
          "text": [
            "creating features for following interactions: ff fv \n",
            "using l1 regularization = 10\n",
            "final_regressor = outbrain.model.bin\n",
            "Enabling FTRL based optimization\n",
            "Algorithm used: Proximal-FTRL\n",
            "ftrl_alpha = 0.05\n",
            "ftrl_beta = 0.5\n",
            "Num weight bits = 28\n",
            "learning rate = 0.5\n",
            "initial_t = 0\n",
            "power_t = 0.5\n",
            "using no cache\n",
            "Reading datafile = train.vw\n",
            "num sources = 1\n",
            "Enabled reductions: ftrl, scorer\n",
            "average  since         example        example  current  current  current\n",
            "loss     last          counter         weight    label  predict features\n",
            "0.693147 0.693147            1            1.0  -1.0000   0.0000       41\n",
            "0.693147 0.693147            2            2.0   1.0000   0.0000       41\n",
            "0.693147 0.693147            4            4.0  -1.0000   0.0000       97\n",
            "0.693147 0.693147            8            8.0   1.0000   0.0000       55\n",
            "0.693147 0.693147           16           16.0   1.0000   0.0000      104\n",
            "0.693147 0.693147           32           32.0  -1.0000   0.0000       55\n",
            "0.676249 0.659350           64           64.0  -1.0000  -0.2204       41\n",
            "0.631814 0.587379          128          128.0  -1.0000  -0.4858       41\n",
            "0.596963 0.562111          256          256.0   1.0000  -0.9052      167\n",
            "0.553469 0.509976          512          512.0  -1.0000  -1.0079       41\n",
            "0.523874 0.494278         1024         1024.0   1.0000  -1.2837       83\n",
            "0.514152 0.504430         2048         2048.0  -1.0000  -1.2525       41\n",
            "0.505521 0.496891         4096         4096.0  -1.0000  -1.5234      111\n",
            "0.496615 0.487708         8192         8192.0  -1.0000  -1.5675      146\n",
            "0.491457 0.486299        16384        16384.0  -1.0000  -1.1901       48\n",
            "0.486322 0.481187        32768        32768.0  -1.0000  -1.4253      146\n",
            "0.481075 0.475828        65536        65536.0  -1.0000  -1.5845      118\n",
            "0.473073 0.465070       131072       131072.0   1.0000  -1.0593       41\n",
            "0.466055 0.459038       262144       262144.0  -1.0000  -1.4778       41\n",
            "0.458580 0.451104       524288       524288.0  -1.0000  -1.1849       41\n",
            "0.451741 0.444902      1048576      1048576.0  -1.0000  -1.2496       76\n",
            "0.445661 0.439582      2097152      2097152.0  -1.0000  -1.8130      188\n",
            "0.439403 0.433145      4194304      4194304.0  -1.0000  -0.6256       97\n",
            "0.433313 0.427223      8388608      8388608.0  -1.0000  -2.5906       41\n",
            "0.427891 0.422470     16777216     16777216.0  -1.0000  -0.8782       41\n",
            "0.422718 0.417545     33554432     33554432.0  -1.0000  -1.8353       41\n",
            "0.417921 0.413124     67108864     67108864.0   1.0000  -0.7411      118\n",
            "\n",
            "finished run\n",
            "number of examples = 78431574\n",
            "weighted example sum = 78431574.000000\n",
            "weighted label sum = -48053788.000000\n",
            "average loss = 0.416910\n",
            "best constant = -1.426415\n",
            "best constant's loss = 0.491484\n",
            "total feature number = 9719188118\n",
            "CPU times: user 21.2 s, sys: 2.9 s, total: 24.1 s\n",
            "Wall time: 19min 27s\n"
          ]
        }
      ],
      "source": [
        "%%time\n",
        "\n",
        "! vw --final_regressor outbrain.model.bin train.vw \\\n",
        "    --bit_precision 28 --l1 10 \\\n",
        "    --ftrl --ftrl_alpha 0.05 --ftrl_beta 0.5 \\\n",
        "    --loss_function logistic \\\n",
        "    --interactions ff --interactions fv \\\n",
        "    --random_seed 422\n",
        "   # --passes 1 \\\n",
        "   # --cache -k \\"
      ]
    },
    {
      "cell_type": "code",
      "execution_count": null,
      "id": "f125fab9",
      "metadata": {
        "id": "f125fab9",
        "outputId": "d477aad9-f025-4e53-ac84-d34551e2031a"
      },
      "outputs": [
        {
          "name": "stdout",
          "output_type": "stream",
          "text": [
            "creating features for following interactions: ff fv \n",
            "only testing\n",
            "predictions = val.ans.txt\n",
            "Enabling FTRL based optimization\n",
            "Algorithm used: Proximal-FTRL\n",
            "ftrl_alpha = 0.005\n",
            "ftrl_beta = 0.1\n",
            "Num weight bits = 28\n",
            "learning rate = 0.5\n",
            "initial_t = 0\n",
            "power_t = 0.5\n",
            "using no cache\n",
            "Reading datafile = val.vw\n",
            "num sources = 1\n",
            "Enabled reductions: ftrl, scorer\n",
            "average  since         example        example  current  current  current\n",
            "loss     last          counter         weight    label  predict features\n",
            "2.785875 2.785875            1            1.0  -1.0000   0.6613       41\n",
            "1.772634 0.759393            2            2.0   1.0000   0.5321       97\n",
            "1.343018 0.913402            4            4.0  -1.0000   0.3440       55\n",
            "2.377472 3.411925            8            8.0  -1.0000   0.1312      104\n",
            "2.273058 2.168644           16           16.0   1.0000   0.1198       41\n",
            "2.311368 2.349678           32           32.0  -1.0000   0.0589       48\n",
            "2.628316 2.945265           64           64.0  -1.0000   0.2171      104\n",
            "2.931302 3.234288          128          128.0  -1.0000   0.2736      174\n",
            "2.624676 2.318049          256          256.0  -1.0000   0.7032      132\n",
            "2.751056 2.877436          512          512.0   1.0000   0.2309       55\n",
            "2.782654 2.814252         1024         1024.0  -1.0000   0.0920      132\n",
            "2.750155 2.717655         2048         2048.0  -1.0000   0.1351       76\n",
            "2.707608 2.665062         4096         4096.0  -1.0000   0.0437       76\n",
            "2.701682 2.695755         8192         8192.0   1.0000   0.2460       62\n",
            "2.664182 2.626683        16384        16384.0  -1.0000   0.4286      146\n",
            "2.642853 2.621524        32768        32768.0  -1.0000   0.1630       41\n",
            "2.653628 2.664403        65536        65536.0  -1.0000   0.4798       62\n",
            "2.630666 2.607703       131072       131072.0  -1.0000   0.1509       97\n",
            "2.620346 2.610027       262144       262144.0  -1.0000   0.2543       41\n",
            "2.613925 2.607504       524288       524288.0   1.0000   0.1613      244\n",
            "2.613735 2.613544      1048576      1048576.0  -1.0000   0.6001       83\n",
            "2.611804 2.609873      2097152      2097152.0  -1.0000   0.2023      244\n",
            "2.610316 2.608827      4194304      4194304.0  -1.0000   0.2677       41\n",
            "2.610757 2.611198      8388608      8388608.0  -1.0000   0.0534       41\n",
            "\n",
            "finished run\n",
            "number of examples = 8710157\n",
            "weighted example sum = 8710157.000000\n",
            "weighted label sum = -5338757.000000\n",
            "average loss = 2.610624\n",
            "best constant = -0.612935\n",
            "best constant's loss = 0.624311\n",
            "total feature number = 1079593843\n"
          ]
        }
      ],
      "source": [
        "! vw --testonly --link=logistic --initial_regressor outbrain.model.bin -k --random_seed 422 --predictions val.ans.txt val.vw"
      ]
    },
    {
      "cell_type": "markdown",
      "id": "d48f300c",
      "metadata": {
        "id": "d48f300c"
      },
      "source": [
        "## Processing results"
      ]
    },
    {
      "cell_type": "code",
      "execution_count": null,
      "id": "6658b233",
      "metadata": {
        "id": "6658b233"
      },
      "outputs": [],
      "source": [
        "import numpy as np\n",
        "from sklearn.metrics import r2_score\n",
        "from sklearn.metrics import accuracy_score\n",
        "from sklearn.metrics import log_loss\n",
        "from sklearn.metrics import recall_score\n",
        "from sklearn.metrics import precision_score\n",
        "from sklearn.metrics import roc_auc_score"
      ]
    },
    {
      "cell_type": "code",
      "execution_count": null,
      "id": "3d1a3321",
      "metadata": {
        "id": "3d1a3321"
      },
      "outputs": [],
      "source": [
        "! hdfs dfs -rm -r /user/misc/ \n",
        "! hdfs dfs -mkdir /user/misc/ "
      ]
    },
    {
      "cell_type": "code",
      "execution_count": null,
      "id": "6483ffa9",
      "metadata": {
        "id": "6483ffa9"
      },
      "outputs": [],
      "source": [
        "! hdfs dfs -put -f val.vw /user/misc/ "
      ]
    },
    {
      "cell_type": "code",
      "execution_count": null,
      "id": "e409caee",
      "metadata": {
        "id": "e409caee",
        "outputId": "717dfed2-bead-4c50-de22-74eaa5b6c067"
      },
      "outputs": [
        {
          "name": "stdout",
          "output_type": "stream",
          "text": [
            "[-1, 1, -1, -1, -1]\n"
          ]
        }
      ],
      "source": [
        "val_spark = se.read.option(\"delimiter\", \"|\").csv('/user/misc/val.vw', header=False)\n",
        "val_spark = val_spark.rdd.map(lambda x: int(x[\"_c0\"]))\n",
        "print(val_spark.take(5))\n",
        "\n",
        "y_true = np.array(val_spark.collect())"
      ]
    },
    {
      "cell_type": "code",
      "execution_count": null,
      "id": "30f30c14",
      "metadata": {
        "id": "30f30c14"
      },
      "outputs": [],
      "source": [
        "with open(\"val.ans.txt\", 'r') as f:\n",
        "    y_probs = np.array([(float(value)) for value in f.readlines()])\n",
        "    y_pred = np.array([int(x > 0.5) * 2 - 1 for x in y_probs])"
      ]
    },
    {
      "cell_type": "code",
      "execution_count": null,
      "id": "989ba355",
      "metadata": {
        "id": "989ba355",
        "outputId": "62659e3a-e820-4979-aa62-5a4e21bd779d"
      },
      "outputs": [
        {
          "data": {
            "text/plain": [
              "0.8258232314296975"
            ]
          },
          "execution_count": 126,
          "metadata": {},
          "output_type": "execute_result"
        }
      ],
      "source": [
        "accuracy_score(y_true, y_pred)"
      ]
    },
    {
      "cell_type": "code",
      "execution_count": null,
      "id": "6f385bcb",
      "metadata": {
        "id": "6f385bcb",
        "outputId": "81837336-a13f-436a-a78c-03c99495a8ef"
      },
      "outputs": [
        {
          "data": {
            "text/plain": [
              "0.41062831575087627"
            ]
          },
          "execution_count": 127,
          "metadata": {},
          "output_type": "execute_result"
        }
      ],
      "source": [
        "log_loss(y_true, y_probs)"
      ]
    },
    {
      "cell_type": "code",
      "execution_count": null,
      "id": "deb6c793",
      "metadata": {
        "id": "deb6c793",
        "outputId": "84489b5f-56fb-46c5-df06-d3a00af1024c"
      },
      "outputs": [
        {
          "data": {
            "text/plain": [
              "0.766997469027958"
            ]
          },
          "execution_count": 128,
          "metadata": {},
          "output_type": "execute_result"
        }
      ],
      "source": [
        "roc_auc_score(y_true, y_probs)"
      ]
    },
    {
      "cell_type": "markdown",
      "id": "944660a8",
      "metadata": {
        "id": "944660a8"
      },
      "source": [
        "## Packaging a test file"
      ]
    },
    {
      "cell_type": "code",
      "execution_count": null,
      "id": "5d55f09d",
      "metadata": {
        "id": "5d55f09d",
        "outputId": "4500d6fa-48cc-434a-baa8-8db0ca4acfe8"
      },
      "outputs": [
        {
          "data": {
            "text/html": [
              "<div>\n",
              "<style scoped>\n",
              "    .dataframe tbody tr th:only-of-type {\n",
              "        vertical-align: middle;\n",
              "    }\n",
              "\n",
              "    .dataframe tbody tr th {\n",
              "        vertical-align: top;\n",
              "    }\n",
              "\n",
              "    .dataframe thead th {\n",
              "        text-align: right;\n",
              "    }\n",
              "</style>\n",
              "<table border=\"1\" class=\"dataframe\">\n",
              "  <thead>\n",
              "    <tr style=\"text-align: right;\">\n",
              "      <th></th>\n",
              "      <th>ad_id</th>\n",
              "      <th>display_id</th>\n",
              "      <th>uuid</th>\n",
              "      <th>document_id</th>\n",
              "      <th>timestamp</th>\n",
              "      <th>platform</th>\n",
              "      <th>geo_location</th>\n",
              "      <th>promo_document_id</th>\n",
              "      <th>campaign_id</th>\n",
              "      <th>advertiser_id</th>\n",
              "    </tr>\n",
              "  </thead>\n",
              "  <tbody>\n",
              "    <tr>\n",
              "      <th>0</th>\n",
              "      <td>137006</td>\n",
              "      <td>16874807</td>\n",
              "      <td>a296494aa7a041</td>\n",
              "      <td>399863</td>\n",
              "      <td>87414</td>\n",
              "      <td>2</td>\n",
              "      <td>AU&gt;02</td>\n",
              "      <td>916403</td>\n",
              "      <td>17587</td>\n",
              "      <td>859</td>\n",
              "    </tr>\n",
              "    <tr>\n",
              "      <th>1</th>\n",
              "      <td>192759</td>\n",
              "      <td>16874807</td>\n",
              "      <td>a296494aa7a041</td>\n",
              "      <td>399863</td>\n",
              "      <td>87414</td>\n",
              "      <td>2</td>\n",
              "      <td>AU&gt;02</td>\n",
              "      <td>1469601</td>\n",
              "      <td>22742</td>\n",
              "      <td>1975</td>\n",
              "    </tr>\n",
              "    <tr>\n",
              "      <th>2</th>\n",
              "      <td>192855</td>\n",
              "      <td>16874807</td>\n",
              "      <td>a296494aa7a041</td>\n",
              "      <td>399863</td>\n",
              "      <td>87414</td>\n",
              "      <td>2</td>\n",
              "      <td>AU&gt;02</td>\n",
              "      <td>1460834</td>\n",
              "      <td>22748</td>\n",
              "      <td>622</td>\n",
              "    </tr>\n",
              "    <tr>\n",
              "      <th>3</th>\n",
              "      <td>213769</td>\n",
              "      <td>16874807</td>\n",
              "      <td>a296494aa7a041</td>\n",
              "      <td>399863</td>\n",
              "      <td>87414</td>\n",
              "      <td>2</td>\n",
              "      <td>AU&gt;02</td>\n",
              "      <td>903092</td>\n",
              "      <td>23770</td>\n",
              "      <td>712</td>\n",
              "    </tr>\n",
              "    <tr>\n",
              "      <th>4</th>\n",
              "      <td>64762</td>\n",
              "      <td>16874827</td>\n",
              "      <td>d134b1a0c43628</td>\n",
              "      <td>1754388</td>\n",
              "      <td>94623</td>\n",
              "      <td>1</td>\n",
              "      <td>US&gt;CA&gt;803</td>\n",
              "      <td>942527</td>\n",
              "      <td>5118</td>\n",
              "      <td>1107</td>\n",
              "    </tr>\n",
              "  </tbody>\n",
              "</table>\n",
              "</div>"
            ],
            "text/plain": [
              "    ad_id  display_id            uuid  document_id  timestamp platform  \\\n",
              "0  137006    16874807  a296494aa7a041       399863      87414        2   \n",
              "1  192759    16874807  a296494aa7a041       399863      87414        2   \n",
              "2  192855    16874807  a296494aa7a041       399863      87414        2   \n",
              "3  213769    16874807  a296494aa7a041       399863      87414        2   \n",
              "4   64762    16874827  d134b1a0c43628      1754388      94623        1   \n",
              "\n",
              "  geo_location  promo_document_id  campaign_id  advertiser_id  \n",
              "0        AU>02             916403        17587            859  \n",
              "1        AU>02            1469601        22742           1975  \n",
              "2        AU>02            1460834        22748            622  \n",
              "3        AU>02             903092        23770            712  \n",
              "4    US>CA>803             942527         5118           1107  "
            ]
          },
          "execution_count": 92,
          "metadata": {},
          "output_type": "execute_result"
        }
      ],
      "source": [
        "test_wide = test.join(events, on=['display_id'], how='left').join(content, on=['ad_id'], how='left')\n",
        "test_wide.limit(5).toPandas()"
      ]
    },
    {
      "cell_type": "code",
      "execution_count": null,
      "id": "2f2b9b4e",
      "metadata": {
        "id": "2f2b9b4e",
        "outputId": "2e00c68b-8c66-481c-cf16-f73065f935eb"
      },
      "outputs": [
        {
          "data": {
            "text/html": [
              "<div>\n",
              "<style scoped>\n",
              "    .dataframe tbody tr th:only-of-type {\n",
              "        vertical-align: middle;\n",
              "    }\n",
              "\n",
              "    .dataframe tbody tr th {\n",
              "        vertical-align: top;\n",
              "    }\n",
              "\n",
              "    .dataframe thead th {\n",
              "        text-align: right;\n",
              "    }\n",
              "</style>\n",
              "<table border=\"1\" class=\"dataframe\">\n",
              "  <thead>\n",
              "    <tr style=\"text-align: right;\">\n",
              "      <th></th>\n",
              "      <th>ad_id</th>\n",
              "      <th>display_id</th>\n",
              "      <th>uuid</th>\n",
              "      <th>document_id</th>\n",
              "      <th>timestamp</th>\n",
              "      <th>platform</th>\n",
              "      <th>promo_document_id</th>\n",
              "      <th>campaign_id</th>\n",
              "      <th>advertiser_id</th>\n",
              "      <th>country</th>\n",
              "      <th>city</th>\n",
              "      <th>index</th>\n",
              "    </tr>\n",
              "  </thead>\n",
              "  <tbody>\n",
              "    <tr>\n",
              "      <th>0</th>\n",
              "      <td>137006</td>\n",
              "      <td>16874807</td>\n",
              "      <td>a296494aa7a041</td>\n",
              "      <td>399863</td>\n",
              "      <td>87414</td>\n",
              "      <td>2</td>\n",
              "      <td>916403</td>\n",
              "      <td>17587</td>\n",
              "      <td>859</td>\n",
              "      <td>AU</td>\n",
              "      <td>02</td>\n",
              "      <td>None</td>\n",
              "    </tr>\n",
              "    <tr>\n",
              "      <th>1</th>\n",
              "      <td>192759</td>\n",
              "      <td>16874807</td>\n",
              "      <td>a296494aa7a041</td>\n",
              "      <td>399863</td>\n",
              "      <td>87414</td>\n",
              "      <td>2</td>\n",
              "      <td>1469601</td>\n",
              "      <td>22742</td>\n",
              "      <td>1975</td>\n",
              "      <td>AU</td>\n",
              "      <td>02</td>\n",
              "      <td>None</td>\n",
              "    </tr>\n",
              "    <tr>\n",
              "      <th>2</th>\n",
              "      <td>192855</td>\n",
              "      <td>16874807</td>\n",
              "      <td>a296494aa7a041</td>\n",
              "      <td>399863</td>\n",
              "      <td>87414</td>\n",
              "      <td>2</td>\n",
              "      <td>1460834</td>\n",
              "      <td>22748</td>\n",
              "      <td>622</td>\n",
              "      <td>AU</td>\n",
              "      <td>02</td>\n",
              "      <td>None</td>\n",
              "    </tr>\n",
              "    <tr>\n",
              "      <th>3</th>\n",
              "      <td>213769</td>\n",
              "      <td>16874807</td>\n",
              "      <td>a296494aa7a041</td>\n",
              "      <td>399863</td>\n",
              "      <td>87414</td>\n",
              "      <td>2</td>\n",
              "      <td>903092</td>\n",
              "      <td>23770</td>\n",
              "      <td>712</td>\n",
              "      <td>AU</td>\n",
              "      <td>02</td>\n",
              "      <td>None</td>\n",
              "    </tr>\n",
              "    <tr>\n",
              "      <th>4</th>\n",
              "      <td>64762</td>\n",
              "      <td>16874827</td>\n",
              "      <td>d134b1a0c43628</td>\n",
              "      <td>1754388</td>\n",
              "      <td>94623</td>\n",
              "      <td>1</td>\n",
              "      <td>942527</td>\n",
              "      <td>5118</td>\n",
              "      <td>1107</td>\n",
              "      <td>US</td>\n",
              "      <td>CA</td>\n",
              "      <td>803</td>\n",
              "    </tr>\n",
              "  </tbody>\n",
              "</table>\n",
              "</div>"
            ],
            "text/plain": [
              "    ad_id  display_id            uuid  document_id  timestamp platform  \\\n",
              "0  137006    16874807  a296494aa7a041       399863      87414        2   \n",
              "1  192759    16874807  a296494aa7a041       399863      87414        2   \n",
              "2  192855    16874807  a296494aa7a041       399863      87414        2   \n",
              "3  213769    16874807  a296494aa7a041       399863      87414        2   \n",
              "4   64762    16874827  d134b1a0c43628      1754388      94623        1   \n",
              "\n",
              "   promo_document_id  campaign_id  advertiser_id country city index  \n",
              "0             916403        17587            859      AU   02  None  \n",
              "1            1469601        22742           1975      AU   02  None  \n",
              "2            1460834        22748            622      AU   02  None  \n",
              "3             903092        23770            712      AU   02  None  \n",
              "4             942527         5118           1107      US   CA   803  "
            ]
          },
          "execution_count": 93,
          "metadata": {},
          "output_type": "execute_result"
        }
      ],
      "source": [
        "split_col = pyspark.sql.functions.split(test_wide['geo_location'], '>')\n",
        "\n",
        "test_wider = test_wide.withColumn('country', split_col.getItem(0))\n",
        "test_wider = test_wider.withColumn('city', split_col.getItem(1))\n",
        "test_wider = test_wider.withColumn('index', split_col.getItem(2)).drop('geo_location')\n",
        "\n",
        "test_wider.limit(5).toPandas()"
      ]
    },
    {
      "cell_type": "code",
      "execution_count": null,
      "id": "d2fb8bc6",
      "metadata": {
        "id": "d2fb8bc6",
        "outputId": "3936d74c-ef85-4af0-e66b-5c4712298b2c"
      },
      "outputs": [
        {
          "data": {
            "text/html": [
              "<div>\n",
              "<style scoped>\n",
              "    .dataframe tbody tr th:only-of-type {\n",
              "        vertical-align: middle;\n",
              "    }\n",
              "\n",
              "    .dataframe tbody tr th {\n",
              "        vertical-align: top;\n",
              "    }\n",
              "\n",
              "    .dataframe thead th {\n",
              "        text-align: right;\n",
              "    }\n",
              "</style>\n",
              "<table border=\"1\" class=\"dataframe\">\n",
              "  <thead>\n",
              "    <tr style=\"text-align: right;\">\n",
              "      <th></th>\n",
              "      <th>uuid</th>\n",
              "      <th>ad_id</th>\n",
              "      <th>display_id</th>\n",
              "      <th>document_id</th>\n",
              "      <th>timestamp</th>\n",
              "      <th>platform</th>\n",
              "      <th>promo_document_id</th>\n",
              "      <th>campaign_id</th>\n",
              "      <th>advertiser_id</th>\n",
              "      <th>country</th>\n",
              "      <th>city</th>\n",
              "      <th>index</th>\n",
              "      <th>document_id_all</th>\n",
              "    </tr>\n",
              "  </thead>\n",
              "  <tbody>\n",
              "    <tr>\n",
              "      <th>0</th>\n",
              "      <td>1000615e760786</td>\n",
              "      <td>85274</td>\n",
              "      <td>22991705</td>\n",
              "      <td>2959725</td>\n",
              "      <td>1288970662</td>\n",
              "      <td>3</td>\n",
              "      <td>961909</td>\n",
              "      <td>9947</td>\n",
              "      <td>2238</td>\n",
              "      <td>US</td>\n",
              "      <td>IL</td>\n",
              "      <td>602</td>\n",
              "      <td>[2730005, 2730005, 2959725]</td>\n",
              "    </tr>\n",
              "    <tr>\n",
              "      <th>1</th>\n",
              "      <td>1000615e760786</td>\n",
              "      <td>118016</td>\n",
              "      <td>22991705</td>\n",
              "      <td>2959725</td>\n",
              "      <td>1288970662</td>\n",
              "      <td>3</td>\n",
              "      <td>1193086</td>\n",
              "      <td>15059</td>\n",
              "      <td>2238</td>\n",
              "      <td>US</td>\n",
              "      <td>IL</td>\n",
              "      <td>602</td>\n",
              "      <td>[2730005, 2730005, 2959725]</td>\n",
              "    </tr>\n",
              "    <tr>\n",
              "      <th>2</th>\n",
              "      <td>1000615e760786</td>\n",
              "      <td>124564</td>\n",
              "      <td>22991705</td>\n",
              "      <td>2959725</td>\n",
              "      <td>1288970662</td>\n",
              "      <td>3</td>\n",
              "      <td>1201265</td>\n",
              "      <td>15992</td>\n",
              "      <td>2146</td>\n",
              "      <td>US</td>\n",
              "      <td>IL</td>\n",
              "      <td>602</td>\n",
              "      <td>[2730005, 2730005, 2959725]</td>\n",
              "    </tr>\n",
              "    <tr>\n",
              "      <th>3</th>\n",
              "      <td>1000615e760786</td>\n",
              "      <td>133143</td>\n",
              "      <td>22991705</td>\n",
              "      <td>2959725</td>\n",
              "      <td>1288970662</td>\n",
              "      <td>3</td>\n",
              "      <td>1294382</td>\n",
              "      <td>17083</td>\n",
              "      <td>1510</td>\n",
              "      <td>US</td>\n",
              "      <td>IL</td>\n",
              "      <td>602</td>\n",
              "      <td>[2730005, 2730005, 2959725]</td>\n",
              "    </tr>\n",
              "    <tr>\n",
              "      <th>4</th>\n",
              "      <td>1000615e760786</td>\n",
              "      <td>153060</td>\n",
              "      <td>22991705</td>\n",
              "      <td>2959725</td>\n",
              "      <td>1288970662</td>\n",
              "      <td>3</td>\n",
              "      <td>1376367</td>\n",
              "      <td>19445</td>\n",
              "      <td>2200</td>\n",
              "      <td>US</td>\n",
              "      <td>IL</td>\n",
              "      <td>602</td>\n",
              "      <td>[2730005, 2730005, 2959725]</td>\n",
              "    </tr>\n",
              "  </tbody>\n",
              "</table>\n",
              "</div>"
            ],
            "text/plain": [
              "             uuid   ad_id  display_id  document_id   timestamp platform  \\\n",
              "0  1000615e760786   85274    22991705      2959725  1288970662        3   \n",
              "1  1000615e760786  118016    22991705      2959725  1288970662        3   \n",
              "2  1000615e760786  124564    22991705      2959725  1288970662        3   \n",
              "3  1000615e760786  133143    22991705      2959725  1288970662        3   \n",
              "4  1000615e760786  153060    22991705      2959725  1288970662        3   \n",
              "\n",
              "   promo_document_id  campaign_id  advertiser_id country city index  \\\n",
              "0             961909         9947           2238      US   IL   602   \n",
              "1            1193086        15059           2238      US   IL   602   \n",
              "2            1201265        15992           2146      US   IL   602   \n",
              "3            1294382        17083           1510      US   IL   602   \n",
              "4            1376367        19445           2200      US   IL   602   \n",
              "\n",
              "               document_id_all  \n",
              "0  [2730005, 2730005, 2959725]  \n",
              "1  [2730005, 2730005, 2959725]  \n",
              "2  [2730005, 2730005, 2959725]  \n",
              "3  [2730005, 2730005, 2959725]  \n",
              "4  [2730005, 2730005, 2959725]  "
            ]
          },
          "execution_count": 94,
          "metadata": {},
          "output_type": "execute_result"
        }
      ],
      "source": [
        "test_widest = test_wider.join(views_ordered.drop(\"geo_location_all\")\\\n",
        "                                .drop(\"traffic_source_all\")\\\n",
        "                                .drop(\"platform_all\"), on=['uuid'], how='left')\n",
        "\n",
        "test_widest.limit(5).toPandas()"
      ]
    },
    {
      "cell_type": "code",
      "execution_count": null,
      "id": "331b6fae",
      "metadata": {
        "id": "331b6fae"
      },
      "outputs": [],
      "source": [
        "test_widest.write.parquet(\"/user/outbrain/parquet/test_widest.parquet\")"
      ]
    },
    {
      "cell_type": "code",
      "execution_count": null,
      "id": "7ad71ded",
      "metadata": {
        "id": "7ad71ded"
      },
      "outputs": [],
      "source": [
        "test_widest = se.read.parquet(\"/user/outbrain/parquet/test_widest.parquet\")"
      ]
    },
    {
      "cell_type": "code",
      "execution_count": null,
      "id": "84b59d7b",
      "metadata": {
        "id": "84b59d7b",
        "outputId": "7f763db4-3ba5-4a88-f7f4-8d95422ba446"
      },
      "outputs": [
        {
          "name": "stdout",
          "output_type": "stream",
          "text": [
            "root\n",
            " |-- f_uuid: string (nullable = true)\n",
            " |-- f_ad_id: integer (nullable = true)\n",
            " |-- i_display_id: integer (nullable = true)\n",
            " |-- f_doc_id: integer (nullable = true)\n",
            " |-- f_timestamp: integer (nullable = true)\n",
            " |-- f_platform: string (nullable = true)\n",
            " |-- f_promo_id: integer (nullable = true)\n",
            " |-- f_campaign_id: integer (nullable = true)\n",
            " |-- f_advertiser_id: integer (nullable = true)\n",
            " |-- g_country: string (nullable = true)\n",
            " |-- g_city: string (nullable = true)\n",
            " |-- g_index: string (nullable = true)\n",
            " |-- v_visits: array (nullable = true)\n",
            " |    |-- element: integer (containsNull = true)\n",
            "\n"
          ]
        }
      ],
      "source": [
        "columns = [\n",
        "    'f_uuid',\n",
        "    'f_ad_id',\n",
        "    'i_display_id',\n",
        "    'f_doc_id',\n",
        "    'f_timestamp',\n",
        "    'f_platform',\n",
        "    'f_promo_id',\n",
        "    'f_campaign_id',\n",
        "    'f_advertiser_id',\n",
        "    'g_country',\n",
        "    'g_city',\n",
        "    'g_index',\n",
        "    'v_visits'\n",
        "]\n",
        "\n",
        "df_test = test_widest.toDF(*columns)\n",
        "df_test.printSchema()"
      ]
    },
    {
      "cell_type": "code",
      "execution_count": null,
      "id": "20f26869",
      "metadata": {
        "scrolled": true,
        "id": "20f26869"
      },
      "outputs": [],
      "source": [
        "df_test.rdd.map(convert_to_vw_class).saveAsTextFile(\"/user/outbrain/data.test.vw\")\n",
        "! hdfs dfs -cat /user/outbrain/data.test.vw/* > test.vw"
      ]
    },
    {
      "cell_type": "code",
      "execution_count": null,
      "id": "f3dea41a",
      "metadata": {
        "id": "f3dea41a",
        "outputId": "5e034863-f6fd-4deb-85f6-cff188b946ca"
      },
      "outputs": [
        {
          "name": "stdout",
          "output_type": "stream",
          "text": [
            "creating features for following interactions: ff fv \n",
            "only testing\n",
            "predictions = test.ans.txt\n",
            "Enabling FTRL based optimization\n",
            "Algorithm used: Proximal-FTRL\n",
            "ftrl_alpha = 0.005\n",
            "ftrl_beta = 0.1\n",
            "Num weight bits = 28\n",
            "learning rate = 0.5\n",
            "initial_t = 0\n",
            "power_t = 0.5\n",
            "using no cache\n",
            "Reading datafile = test.vw\n",
            "num sources = 1\n",
            "Enabled reductions: ftrl, scorer\n",
            "average  since         example        example  current  current  current\n",
            "loss     last          counter         weight    label  predict features\n",
            "12.241900 12.241900            1            1.0  -1.0000   0.9241       41\n",
            "8.042418 3.842935            2            2.0  -1.0000   0.0493       41\n",
            "10.674784 13.307151            4            4.0  -1.0000   0.0321       41\n",
            "5.417466 0.160147            8            8.0  -1.0000   0.1482      118\n",
            "3.122124 0.826783           16           16.0  -1.0000   0.2257       41\n",
            "2.052289 0.982453           32           32.0  -1.0000   0.1931      174\n",
            "1.885795 1.719302           64           64.0  -1.0000   0.0927      188\n",
            "1.364717 0.843639          128          128.0  -1.0000   0.1098       41\n",
            "1.534774 1.704831          256          256.0  -1.0000   0.1430       55\n",
            "1.650487 1.766200          512          512.0  -1.0000   0.0300      132\n",
            "1.804755 1.959022         1024         1024.0  -1.0000   0.0685      104\n",
            "1.795411 1.786068         2048         2048.0  -1.0000   0.2518       48\n",
            "1.820188 1.844965         4096         4096.0  -1.0000   0.2064       76\n",
            "1.881806 1.943424         8192         8192.0  -1.0000   0.2796       48\n",
            "1.814047 1.746288        16384        16384.0  -1.0000   0.0659      111\n",
            "1.854433 1.894819        32768        32768.0  -1.0000   0.0351      328\n",
            "1.892452 1.930472        65536        65536.0  -1.0000   0.3445       97\n",
            "1.875211 1.857970       131072       131072.0  -1.0000   0.0400       41\n",
            "1.869217 1.863222       262144       262144.0  -1.0000   0.1319      174\n",
            "1.867659 1.866101       524288       524288.0  -1.0000   0.0733      125\n",
            "1.850984 1.834309      1048576      1048576.0  -1.0000   0.0192      104\n",
            "1.842688 1.834392      2097152      2097152.0  -1.0000   0.2389       83\n",
            "1.839939 1.837190      4194304      4194304.0  -1.0000   0.3589       62\n",
            "1.838129 1.836319      8388608      8388608.0  -1.0000   0.1297       55\n",
            "1.836183 1.834237     16777216     16777216.0  -1.0000   0.2110       41\n",
            "\n",
            "finished run\n",
            "number of examples = 32225162\n",
            "weighted example sum = 32225162.000000\n",
            "weighted label sum = -32225162.000000\n",
            "average loss = 1.835116\n",
            "best constant = -1.000000\n",
            "best constant's loss = 0.000000\n",
            "total feature number = 3820662891\n"
          ]
        }
      ],
      "source": [
        "! vw --testonly --link=logistic --initial_regressor outbrain.model.bin -k --random_seed 422 --predictions test.ans.txt test.vw"
      ]
    },
    {
      "cell_type": "code",
      "execution_count": null,
      "id": "0d9a7cc8",
      "metadata": {
        "id": "0d9a7cc8",
        "outputId": "1bfb6a4a-66c9-47ba-e9d9-958a7575ba67"
      },
      "outputs": [
        {
          "name": "stdout",
          "output_type": "stream",
          "text": [
            "0.924061\r\n",
            "0.049250\r\n",
            "0.003818\r\n",
            "0.032149\r\n",
            "0.323855\r\n",
            "0.271631\r\n",
            "0.288628\r\n",
            "0.148159\r\n",
            "0.369514\r\n",
            "0.243834\r\n"
          ]
        }
      ],
      "source": [
        "! head test.ans.txt"
      ]
    },
    {
      "cell_type": "code",
      "execution_count": null,
      "id": "2dd865ee",
      "metadata": {
        "id": "2dd865ee",
        "outputId": "c8e1812d-f4ce-4b92-f334-729967aadb6f"
      },
      "outputs": [
        {
          "data": {
            "text/plain": [
              "32225162"
            ]
          },
          "execution_count": 107,
          "metadata": {},
          "output_type": "execute_result"
        }
      ],
      "source": [
        "test.count()"
      ]
    },
    {
      "cell_type": "code",
      "execution_count": null,
      "id": "ea2739e4",
      "metadata": {
        "id": "ea2739e4",
        "outputId": "390e3d50-122a-4a46-ec19-c236adcc284e"
      },
      "outputs": [
        {
          "name": "stdout",
          "output_type": "stream",
          "text": [
            "+---------------------+\n",
            "|count(DISTINCT ad_id)|\n",
            "+---------------------+\n",
            "|               381385|\n",
            "+---------------------+\n",
            "\n"
          ]
        }
      ],
      "source": [
        "from pyspark.sql.functions import countDistinct\n",
        "test.select(countDistinct(\"ad_id\")).show()"
      ]
    },
    {
      "cell_type": "code",
      "execution_count": null,
      "id": "3ac54f22",
      "metadata": {
        "id": "3ac54f22",
        "outputId": "7d76cb0b-0e30-4284-c90b-4578ac9d235d"
      },
      "outputs": [
        {
          "data": {
            "text/html": [
              "<div>\n",
              "<style scoped>\n",
              "    .dataframe tbody tr th:only-of-type {\n",
              "        vertical-align: middle;\n",
              "    }\n",
              "\n",
              "    .dataframe tbody tr th {\n",
              "        vertical-align: top;\n",
              "    }\n",
              "\n",
              "    .dataframe thead th {\n",
              "        text-align: right;\n",
              "    }\n",
              "</style>\n",
              "<table border=\"1\" class=\"dataframe\">\n",
              "  <thead>\n",
              "    <tr style=\"text-align: right;\">\n",
              "      <th></th>\n",
              "      <th>display_id</th>\n",
              "      <th>collect_list(ad_id)</th>\n",
              "    </tr>\n",
              "  </thead>\n",
              "  <tbody>\n",
              "    <tr>\n",
              "      <th>0</th>\n",
              "      <td>16874807</td>\n",
              "      <td>[137006, 192759, 192855, 213769]</td>\n",
              "    </tr>\n",
              "    <tr>\n",
              "      <th>1</th>\n",
              "      <td>16874827</td>\n",
              "      <td>[64762, 137842, 144741, 235104, 257524]</td>\n",
              "    </tr>\n",
              "    <tr>\n",
              "      <th>2</th>\n",
              "      <td>16874838</td>\n",
              "      <td>[37887, 117307, 123702, 160448]</td>\n",
              "    </tr>\n",
              "    <tr>\n",
              "      <th>3</th>\n",
              "      <td>16874919</td>\n",
              "      <td>[3784, 117198, 132295, 137126]</td>\n",
              "    </tr>\n",
              "    <tr>\n",
              "      <th>4</th>\n",
              "      <td>16875012</td>\n",
              "      <td>[35050, 188159, 329206]</td>\n",
              "    </tr>\n",
              "  </tbody>\n",
              "</table>\n",
              "</div>"
            ],
            "text/plain": [
              "   display_id                      collect_list(ad_id)\n",
              "0    16874807         [137006, 192759, 192855, 213769]\n",
              "1    16874827  [64762, 137842, 144741, 235104, 257524]\n",
              "2    16874838          [37887, 117307, 123702, 160448]\n",
              "3    16874919           [3784, 117198, 132295, 137126]\n",
              "4    16875012                  [35050, 188159, 329206]"
            ]
          },
          "execution_count": 24,
          "metadata": {},
          "output_type": "execute_result"
        }
      ],
      "source": [
        "from pyspark.sql.functions import col\n",
        "from pyspark.sql import functions as F\n",
        "\n",
        "test_grouped = (test.select(col(\"display_id\"), col(\"ad_id\")) \\\n",
        "  .groupby(\"display_id\") \\\n",
        "  .agg(F.collect_list(\"ad_id\"))\n",
        ")\n",
        "\n",
        "test_grouped.limit(5).toPandas()"
      ]
    },
    {
      "cell_type": "code",
      "execution_count": null,
      "id": "8963f465",
      "metadata": {
        "id": "8963f465",
        "outputId": "4e19a302-45a1-4bf9-b0b7-14771608534c"
      },
      "outputs": [
        {
          "data": {
            "text/plain": [
              "6245533"
            ]
          },
          "execution_count": 26,
          "metadata": {},
          "output_type": "execute_result"
        }
      ],
      "source": [
        "test_grouped.count()"
      ]
    },
    {
      "cell_type": "code",
      "execution_count": null,
      "id": "34eb08d3",
      "metadata": {
        "id": "34eb08d3",
        "outputId": "5b938a34-f1c5-4ed2-9160-cdc230255129"
      },
      "outputs": [
        {
          "data": {
            "text/plain": [
              "6245533"
            ]
          },
          "execution_count": 25,
          "metadata": {},
          "output_type": "execute_result"
        }
      ],
      "source": [
        "ssub = se.read.parquet(\"/user/outbrain/parquet/sample_submission.parquet\")\n",
        "ssub.count()"
      ]
    },
    {
      "cell_type": "markdown",
      "id": "c3c784ee",
      "metadata": {
        "id": "c3c784ee"
      },
      "source": [
        "The sizes match!"
      ]
    },
    {
      "cell_type": "code",
      "execution_count": null,
      "id": "cacefce3",
      "metadata": {
        "id": "cacefce3"
      },
      "outputs": [],
      "source": [
        "! hdfs dfs -put -f test.vw /user/misc/ "
      ]
    },
    {
      "cell_type": "code",
      "execution_count": null,
      "id": "33442d8b",
      "metadata": {
        "id": "33442d8b",
        "outputId": "085bd09b-ff18-46e9-b4e6-0848128bdde0"
      },
      "outputs": [
        {
          "name": "stdout",
          "output_type": "stream",
          "text": [
            "-1 |i dis_23112877 |f adi_39331 uid_100413e593e7f7 doc_1518998 prm_838254 cmp_5368 adv_580 |g cnt_US cit_MA ind_506 tim_1295551709 plt_2 |v doc_1518998\r\n",
            "-1 |i dis_23112877 |f adi_92164 uid_100413e593e7f7 doc_1518998 prm_1126486 cmp_11955 adv_2722 |g cnt_US cit_MA ind_506 tim_1295551709 plt_2 |v doc_1518998\r\n",
            "-1 |i dis_23112877 |f adi_232272 uid_100413e593e7f7 doc_1518998 prm_573399 cmp_115 adv_53 |g cnt_US cit_MA ind_506 tim_1295551709 plt_2 |v doc_1518998\r\n",
            "-1 |i dis_23112877 |f adi_566224 uid_100413e593e7f7 doc_1518998 prm_2981649 cmp_17095 adv_447 |g cnt_US cit_MA ind_506 tim_1295551709 plt_2 |v doc_1518998\r\n",
            "-1 |i dis_21447854 |f adi_35808 uid_1004e56a710992 doc_2892668 prm_896852 cmp_1550 adv_256 |g cnt_US cit_NY ind_532 tim_1205503062 plt_2 |v doc_856831 doc_1179111 doc_2108998 doc_850831 doc_880379 doc_1821324 doc_2892668 doc_2119615 doc_1849873 doc_2907553 doc_2073446 doc_1869791\r\n",
            "-1 |i dis_21447854 |f adi_85366 uid_1004e56a710992 doc_2892668 prm_1101417 cmp_11069 adv_1544 |g cnt_US cit_NY ind_532 tim_1205503062 plt_2 |v doc_856831 doc_1179111 doc_2108998 doc_850831 doc_880379 doc_1821324 doc_2892668 doc_2119615 doc_1849873 doc_2907553 doc_2073446 doc_1869791\r\n",
            "-1 |i dis_21447854 |f adi_164327 uid_1004e56a710992 doc_2892668 prm_1408591 cmp_20547 adv_1031 |g cnt_US cit_NY ind_532 tim_1205503062 plt_2 |v doc_856831 doc_1179111 doc_2108998 doc_850831 doc_880379 doc_1821324 doc_2892668 doc_2119615 doc_1849873 doc_2907553 doc_2073446 doc_1869791\r\n",
            "-1 |i dis_21447854 |f adi_173403 uid_1004e56a710992 doc_2892668 prm_1387632 cmp_21143 adv_2876 |g cnt_US cit_NY ind_532 tim_1205503062 plt_2 |v doc_856831 doc_1179111 doc_2108998 doc_850831 doc_880379 doc_1821324 doc_2892668 doc_2119615 doc_1849873 doc_2907553 doc_2073446 doc_1869791\r\n",
            "-1 |i dis_21368564 |f adi_12650 uid_1005ae84cc9b69 doc_54472 prm_503654 cmp_1899 adv_505 |g cnt_US cit_WY ind_756 tim_1201753680 plt_2 |v doc_54472 doc_54472\r\n",
            "-1 |i dis_21368564 |f adi_108870 uid_1005ae84cc9b69 doc_54472 prm_1168619 cmp_14044 adv_83 |g cnt_US cit_WY ind_756 tim_1201753680 plt_2 |v doc_54472 doc_54472\r\n"
          ]
        }
      ],
      "source": [
        "! head test.vw "
      ]
    },
    {
      "cell_type": "code",
      "execution_count": null,
      "id": "de5541e6",
      "metadata": {
        "id": "de5541e6",
        "outputId": "038013c7-a827-448c-e308-f39757f4077a"
      },
      "outputs": [
        {
          "name": "stdout",
          "output_type": "stream",
          "text": [
            "[['39331', 'dis_23112877'], ['92164', 'dis_23112877'], ['232272', 'dis_23112877'], ['566224', 'dis_23112877'], ['35808', 'dis_21447854']]\n"
          ]
        }
      ],
      "source": [
        "test_spark = se.read.option(\"delimiter\", \" \").csv('/user/misc/test.vw', header=False)\n",
        "test_spark_ids = test_spark.rdd.map(lambda x: [x[\"_c4\"].split('_')[1], x[\"_c2\"]])\n",
        "print(test_spark_ids.take(5))"
      ]
    },
    {
      "cell_type": "code",
      "execution_count": null,
      "id": "335bbbdb",
      "metadata": {
        "id": "335bbbdb"
      },
      "outputs": [],
      "source": [
        "with open(\"test.ans.txt\", 'r') as f:\n",
        "    test_probs = np.array([(float(value)) for value in f.readlines()])"
      ]
    },
    {
      "cell_type": "code",
      "execution_count": null,
      "id": "ebf8154d",
      "metadata": {
        "id": "ebf8154d",
        "outputId": "c01bc6cd-aa69-4c33-8bd0-728d73bf3aee"
      },
      "outputs": [
        {
          "name": "stdout",
          "output_type": "stream",
          "text": [
            "[['85274', '22991705'], ['118016', '22991705'], ['124564', '22991705'], ['133143', '22991705'], ['153060', '22991705']]\n"
          ]
        }
      ],
      "source": [
        "#test_spark = se.read.option(\"delimiter\", \" \").csv('/user/misc/test.vw', header=False)\n",
        "#test_spark_ids = test_spark.rdd.map(lambda x: [x[\"_c4\"].split('_')[1], x[\"_c2\"]])\n",
        "#print(test_spark_ids.take(5))\n",
        "#\n",
        "#with open(\"test.ans.txt\", 'r') as f:\n",
        "#    test_probs = np.array([(float(value)) for value in f.readlines()])"
      ]
    },
    {
      "cell_type": "code",
      "execution_count": null,
      "id": "a174981a",
      "metadata": {
        "id": "a174981a",
        "outputId": "aa2a76de-28a3-455d-8bea-585692dedd7e"
      },
      "outputs": [
        {
          "data": {
            "text/plain": [
              "32225162"
            ]
          },
          "execution_count": 41,
          "metadata": {},
          "output_type": "execute_result"
        }
      ],
      "source": [
        "test_spark_ids.count()"
      ]
    },
    {
      "cell_type": "code",
      "execution_count": null,
      "id": "7f13af4b",
      "metadata": {
        "id": "7f13af4b",
        "outputId": "f9a98ed5-798e-490b-d1b5-e51fa6da1193"
      },
      "outputs": [
        {
          "data": {
            "text/plain": [
              "[['dis_23112877', (0.924061, '39331')],\n",
              " ['dis_23112877', (0.04925, '92164')],\n",
              " ['dis_23112877', (0.003818, '232272')],\n",
              " ['dis_23112877', (0.032149, '566224')],\n",
              " ['dis_21447854', (0.323855, '35808')]]"
            ]
          },
          "execution_count": 132,
          "metadata": {},
          "output_type": "execute_result"
        }
      ],
      "source": [
        "test_spark_scores = test_spark_ids.zipWithIndex().map(lambda x: [x[0][1], (test_probs[x[1]], x[0][0])])\n",
        "test_spark_scores.take(5)"
      ]
    },
    {
      "cell_type": "code",
      "execution_count": null,
      "id": "5c52850c",
      "metadata": {
        "id": "5c52850c",
        "outputId": "b8d3a3a4-7d8f-4fc1-f585-60388fe110e0"
      },
      "outputs": [
        {
          "data": {
            "text/plain": [
              "[('dis_22717362',\n",
              "  [(0.29402, '13690'),\n",
              "   (0.394497, '153244'),\n",
              "   (0.097356, '204760'),\n",
              "   (0.089415, '354799')]),\n",
              " ('dis_19035017',\n",
              "  [(0.458178, '3314'),\n",
              "   (0.141165, '65078'),\n",
              "   (0.19537, '104911'),\n",
              "   (0.029086, '153167'),\n",
              "   (0.184653, '155253'),\n",
              "   (0.201084, '194669')]),\n",
              " ('dis_17056297',\n",
              "  [(0.076647, '38763'),\n",
              "   (0.120777, '114199'),\n",
              "   (0.078469, '137857'),\n",
              "   (0.248031, '155251'),\n",
              "   (0.444892, '188280'),\n",
              "   (0.063879, '288388')]),\n",
              " ('dis_22804408',\n",
              "  [(0.124411, '12651'),\n",
              "   (0.10032, '51850'),\n",
              "   (0.038326, '74349'),\n",
              "   (0.00533, '75249'),\n",
              "   (0.055124, '130940'),\n",
              "   (0.976589, '140988'),\n",
              "   (0.010424, '150863'),\n",
              "   (0.063621, '330376')]),\n",
              " ('dis_18154885',\n",
              "  [(0.214819, '31582'),\n",
              "   (0.055236, '60373'),\n",
              "   (0.222573, '133050'),\n",
              "   (0.18225, '162130'),\n",
              "   (0.048094, '279637'),\n",
              "   (0.120254, '324746')])]"
            ]
          },
          "execution_count": 133,
          "metadata": {},
          "output_type": "execute_result"
        }
      ],
      "source": [
        "test_grouped = test_spark_scores.groupByKey().mapValues(list)\n",
        "test_grouped.take(5)"
      ]
    },
    {
      "cell_type": "code",
      "execution_count": null,
      "id": "e62c9a45",
      "metadata": {
        "id": "e62c9a45",
        "outputId": "2160387e-d8a3-40d7-c21a-46647091f602"
      },
      "outputs": [
        {
          "data": {
            "text/plain": [
              "[['dis_22062093',\n",
              "  [(0.227062, '540227'),\n",
              "   (0.19783, '493823'),\n",
              "   (0.095254, '279511'),\n",
              "   (0.072462, '289974')]],\n",
              " ['dis_19219261',\n",
              "  [(0.263456, '209186'),\n",
              "   (0.251239, '438321'),\n",
              "   (0.250884, '278719'),\n",
              "   (0.178603, '305965')]],\n",
              " ['dis_20262825',\n",
              "  [(0.308265, '271529'),\n",
              "   (0.209089, '234445'),\n",
              "   (0.189891, '8669'),\n",
              "   (0.107303, '349532'),\n",
              "   (0.098572, '499875'),\n",
              "   (0.08199, '427688')]],\n",
              " ['dis_19612560',\n",
              "  [(0.597382, '246826'),\n",
              "   (0.323612, '125693'),\n",
              "   (0.295374, '535499'),\n",
              "   (0.080551, '142732')]],\n",
              " ['dis_21434028',\n",
              "  [(0.3825, '231378'),\n",
              "   (0.144711, '142172'),\n",
              "   (0.113553, '125864'),\n",
              "   (0.06832, '80177'),\n",
              "   (0.063432, '38762'),\n",
              "   (0.048118, '487921')]]]"
            ]
          },
          "execution_count": 134,
          "metadata": {},
          "output_type": "execute_result"
        }
      ],
      "source": [
        "test_sorted = test_grouped.map(lambda x: [x[0], sorted(x[1], reverse=True)])\n",
        "test_sorted.take(5)"
      ]
    },
    {
      "cell_type": "code",
      "execution_count": null,
      "id": "0f263090",
      "metadata": {
        "id": "0f263090",
        "outputId": "92966afa-4650-4bce-8910-c5e33e1bc704"
      },
      "outputs": [
        {
          "data": {
            "text/plain": [
              "[['dis_22717362', ['153244', '13690', '204760', '354799']],\n",
              " ['dis_19035017', ['3314', '194669', '104911', '155253', '65078', '153167']],\n",
              " ['dis_17056297', ['188280', '155251', '114199', '137857', '38763', '288388']],\n",
              " ['dis_22804408',\n",
              "  ['140988',\n",
              "   '12651',\n",
              "   '51850',\n",
              "   '330376',\n",
              "   '130940',\n",
              "   '74349',\n",
              "   '150863',\n",
              "   '75249']],\n",
              " ['dis_18154885', ['133050', '31582', '162130', '324746', '60373', '279637']]]"
            ]
          },
          "execution_count": 135,
          "metadata": {},
          "output_type": "execute_result"
        }
      ],
      "source": [
        "test_final = test_sorted.map(lambda x: [x[0], [y[1] for y in x[1]]])\n",
        "test_final.take(5)"
      ]
    },
    {
      "cell_type": "code",
      "execution_count": null,
      "id": "441bc0f6",
      "metadata": {
        "id": "441bc0f6",
        "outputId": "1eded9ff-ee6a-46c3-e18f-a59232567bdc"
      },
      "outputs": [
        {
          "name": "stdout",
          "output_type": "stream",
          "text": [
            "Deleted /user/misc/submission.csv\r\n"
          ]
        }
      ],
      "source": [
        "! hdfs dfs -rm -R /user/misc/submission.csv\n",
        "def toCSVLine(data):\n",
        "    return data[0][4:] + ',' + ' '.join(data[1])\n",
        "\n",
        "lines = test_final.map(toCSVLine)\n",
        "lines.saveAsTextFile('/user/misc/submission.csv')"
      ]
    },
    {
      "cell_type": "code",
      "execution_count": null,
      "id": "8bbd2f27",
      "metadata": {
        "id": "8bbd2f27"
      },
      "outputs": [],
      "source": [
        "! hdfs dfs -cat /user/misc/submission.csv/* > submission.csv"
      ]
    },
    {
      "cell_type": "markdown",
      "id": "6f0daa6b",
      "metadata": {
        "id": "6f0daa6b"
      },
      "source": [
        "We have beaten the baseline!"
      ]
    },
    {
      "cell_type": "markdown",
      "id": "6f9ba395",
      "metadata": {
        "id": "6f9ba395"
      },
      "source": [
        "![pic](https://drive.google.com/uc?export=view&id=1wOT4zTbs5YbOHyCQmi2l8F32w78z4KPV)"
      ]
    },
    {
      "cell_type": "code",
      "execution_count": null,
      "id": "f5a24697",
      "metadata": {
        "id": "f5a24697"
      },
      "outputs": [],
      "source": []
    }
  ],
  "metadata": {
    "kernelspec": {
      "display_name": "Python 3",
      "language": "python",
      "name": "python3"
    },
    "language_info": {
      "codemirror_mode": {
        "name": "ipython",
        "version": 3
      },
      "file_extension": ".py",
      "mimetype": "text/x-python",
      "name": "python",
      "nbconvert_exporter": "python",
      "pygments_lexer": "ipython3",
      "version": "3.8.10"
    },
    "colab": {
      "provenance": [],
      "toc_visible": true
    }
  },
  "nbformat": 4,
  "nbformat_minor": 5
}